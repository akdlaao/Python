{
 "cells": [
  {
   "cell_type": "raw",
   "metadata": {},
   "source": [
    "http(hyper text transfer protocol) \n",
    "\n",
    "요청url = 'http:서버에 요청하는 주소?요청변수(parameters)'\n",
    "\n",
    "교환 데이터 표준 : []XML, []JSON\n",
    "\n",
    "보통 REST 방식\n",
    "(response 데이터타입 표준은 XML 이며 JSON을 요청할 경우 “&_type=json”을 추가하여 호출)"
   ]
  },
  {
   "cell_type": "markdown",
   "metadata": {},
   "source": [
    "# \"백령도\" 관련 여객정보 가져오기 - api 데이터 성공!"
   ]
  },
  {
   "cell_type": "raw",
   "metadata": {},
   "source": [
    "- 공공데이터 포탈 : https://www.data.go.kr/data/15013974/openapi.do\n",
    "- 코드설명 블로그 : https://somjang.tistory.com/entry/Python%EC%97%B0%EC%95%88-%EC%97%AC%EA%B0%9D%ED%84%B0%EB%AF%B8%EB%84%90-%EC%8B%A4%EC%8B%9C%EA%B0%84-%EC%9A%B4%ED%95%AD%EC%A0%95%EB%B3%B4-API-%ED%99%9C%EC%9A%A9%EA%B8%B0\n",
    "- 워드파일 \"★OpenAPI활용가이드_인천항만공사_v1.5.docx\" page 123"
   ]
  },
  {
   "cell_type": "raw",
   "metadata": {},
   "source": [
    "<목차>\n",
    "step1. \"url? + 파라미터(api_key)\" 정의하기\n",
    "step2. xml 데이터 확보\n",
    "step3. xml 데이터에서 내용만 추출\n",
    "step4. 내가 필요한 정보만 추출"
   ]
  },
  {
   "cell_type": "code",
   "execution_count": 21,
   "metadata": {},
   "outputs": [
    {
     "data": {
      "text/html": [
       "<style>.container { width: 100% !important; }</style>"
      ],
      "text/plain": [
       "<IPython.core.display.HTML object>"
      ]
     },
     "metadata": {},
     "output_type": "display_data"
    }
   ],
   "source": [
    "import requests \n",
    "import xmltodict # xml 데이터를 dictionary로 변환해줌\n",
    "\n",
    "# 셀 사이즈 조정하는 코드\n",
    "from IPython.core.display import display, HTML\n",
    "display(HTML(\"<style>.container { width: 100% !important; }</style>\"))"
   ]
  },
  {
   "cell_type": "markdown",
   "metadata": {},
   "source": [
    "# step1. \"url? + 파라미터(api_key)\" 정의하기"
   ]
  },
  {
   "cell_type": "code",
   "execution_count": 22,
   "metadata": {},
   "outputs": [
    {
     "data": {
      "text/plain": [
       "'FYxMv3QiMKeI7vXk8A4XPC18w+yJd5oo5oNX9swj2fhlrugAMVKyRLSfASWvMoUEAtUu950ee1VlgSWhrHdWcQ=='"
      ]
     },
     "execution_count": 22,
     "metadata": {},
     "output_type": "execute_result"
    }
   ],
   "source": [
    "# \"url?\" 입력\n",
    "url = \"https://opendata.icpa.or.kr/OpenAPI/service/ipaFerryNavigatInfo/getDmstcNvgList?\" \n",
    "\n",
    "# 서비스키(api인증키) 디코딩(unquote)\n",
    "api_key = \"FYxMv3QiMKeI7vXk8A4XPC18w%2ByJd5oo5oNX9swj2fhlrugAMVKyRLSfASWvMoUEAtUu950ee1VlgSWhrHdWcQ%3D%3D\"\n",
    "api_key_decode = requests.utils.unquote(api_key)\n",
    "api_key_decode"
   ]
  },
  {
   "cell_type": "markdown",
   "metadata": {},
   "source": [
    "## ★파라미터 사용자 정의"
   ]
  },
  {
   "cell_type": "code",
   "execution_count": 23,
   "metadata": {},
   "outputs": [
    {
     "data": {
      "text/plain": [
       "{'ServiceKey': 'FYxMv3QiMKeI7vXk8A4XPC18w+yJd5oo5oNX9swj2fhlrugAMVKyRLSfASWvMoUEAtUu950ee1VlgSWhrHdWcQ==',\n",
       " 'numOfROws': 10,\n",
       " 'pageNo': 1}"
      ]
     },
     "execution_count": 23,
     "metadata": {},
     "output_type": "execute_result"
    }
   ],
   "source": [
    "# 파라미터 참고 : 워드파일\"★OpenAPI활용가이드_인천항만공사_v1.5.docx\" - page 123\n",
    "parameters = {\"ServiceKey\":api_key_decode, \"numOfROws\":10, \"pageNo\":1}\n",
    "parameters"
   ]
  },
  {
   "cell_type": "markdown",
   "metadata": {},
   "source": [
    "\n",
    "# step2. xml 데이터 확보!"
   ]
  },
  {
   "cell_type": "code",
   "execution_count": 24,
   "metadata": {
    "scrolled": false
   },
   "outputs": [
    {
     "data": {
      "text/plain": [
       "\"<?xml version='1.0' encoding='UTF-8'?><GetDmstcNvgListResponse><header><resultCode>99</resultCode><resultMsg>SERVICE KEY IS NOT REGISTERED ERROR.</resultMsg></header></GetDmstcNvgListResponse>\""
      ]
     },
     "execution_count": 24,
     "metadata": {},
     "output_type": "execute_result"
    }
   ],
   "source": [
    "# get메소드(url, parameter 입력)로 xml 데이터 가져오기\n",
    "req = requests.get(url, params = parameters)\n",
    "req.text # -> xml 데이터 확보"
   ]
  },
  {
   "cell_type": "code",
   "execution_count": 25,
   "metadata": {
    "scrolled": true
   },
   "outputs": [
    {
     "data": {
      "text/plain": [
       "OrderedDict([('GetDmstcNvgListResponse',\n",
       "              OrderedDict([('header',\n",
       "                            OrderedDict([('resultCode', '99'),\n",
       "                                         ('resultMsg',\n",
       "                                          'SERVICE KEY IS NOT REGISTERED ERROR.')]))]))])"
      ]
     },
     "execution_count": 25,
     "metadata": {},
     "output_type": "execute_result"
    }
   ],
   "source": [
    "# 가져온 xml 데이터를 dictionary 형태로 바꾸기(xmltodict 이용)\n",
    "xml_data = xmltodict.parse(req.text)\n",
    "xml_data"
   ]
  },
  {
   "cell_type": "markdown",
   "metadata": {
    "scrolled": true
   },
   "source": [
    "# step3. xml 데이터에서 내용만 추출"
   ]
  },
  {
   "cell_type": "code",
   "execution_count": 26,
   "metadata": {
    "scrolled": false
   },
   "outputs": [
    {
     "ename": "KeyError",
     "evalue": "'body'",
     "output_type": "error",
     "traceback": [
      "\u001b[1;31m---------------------------------------------------------------------------\u001b[0m",
      "\u001b[1;31mKeyError\u001b[0m                                  Traceback (most recent call last)",
      "\u001b[1;32m<ipython-input-26-05e85b9ca183>\u001b[0m in \u001b[0;36m<module>\u001b[1;34m\u001b[0m\n\u001b[1;32m----> 1\u001b[1;33m \u001b[0minformations\u001b[0m \u001b[1;33m=\u001b[0m \u001b[0mxml_data\u001b[0m\u001b[1;33m[\u001b[0m\u001b[1;34m'GetDmstcNvgListResponse'\u001b[0m\u001b[1;33m]\u001b[0m\u001b[1;33m[\u001b[0m\u001b[1;34m'body'\u001b[0m\u001b[1;33m]\u001b[0m\u001b[1;33m[\u001b[0m\u001b[1;34m'item'\u001b[0m\u001b[1;33m]\u001b[0m\u001b[1;33m[\u001b[0m\u001b[1;34m'GetDmstcNvgListVO'\u001b[0m\u001b[1;33m]\u001b[0m\u001b[1;33m\u001b[0m\u001b[1;33m\u001b[0m\u001b[0m\n\u001b[0m\u001b[0;32m      2\u001b[0m \u001b[1;33m\u001b[0m\u001b[0m\n\u001b[0;32m      3\u001b[0m \u001b[0mprint\u001b[0m\u001b[1;33m(\u001b[0m\u001b[0mlen\u001b[0m\u001b[1;33m(\u001b[0m\u001b[0minformations\u001b[0m\u001b[1;33m)\u001b[0m\u001b[1;33m)\u001b[0m\u001b[1;33m\u001b[0m\u001b[1;33m\u001b[0m\u001b[0m\n\u001b[0;32m      4\u001b[0m \u001b[0mprint\u001b[0m\u001b[1;33m(\u001b[0m\u001b[0mtype\u001b[0m\u001b[1;33m(\u001b[0m\u001b[0minformations\u001b[0m\u001b[1;33m)\u001b[0m\u001b[1;33m)\u001b[0m\u001b[1;33m\u001b[0m\u001b[1;33m\u001b[0m\u001b[0m\n\u001b[0;32m      5\u001b[0m \u001b[0minformations\u001b[0m\u001b[1;33m\u001b[0m\u001b[1;33m\u001b[0m\u001b[0m\n",
      "\u001b[1;31mKeyError\u001b[0m: 'body'"
     ]
    }
   ],
   "source": [
    "informations = xml_data['GetDmstcNvgListResponse']['body']['item']['GetDmstcNvgListVO']\n",
    "\n",
    "print(len(informations))\n",
    "print(type(informations))\n",
    "informations"
   ]
  },
  {
   "cell_type": "code",
   "execution_count": 27,
   "metadata": {},
   "outputs": [
    {
     "data": {
      "text/plain": [
       "'백령도'"
      ]
     },
     "execution_count": 27,
     "metadata": {},
     "output_type": "execute_result"
    }
   ],
   "source": [
    "data = informations[0]['alocname']\n",
    "data"
   ]
  },
  {
   "cell_type": "markdown",
   "metadata": {},
   "source": [
    "# step4. 내가 필요한 정보만 추출"
   ]
  },
  {
   "cell_type": "code",
   "execution_count": 28,
   "metadata": {},
   "outputs": [
    {
     "name": "stdout",
     "output_type": "stream",
     "text": [
      "기항지명: 백령도\n",
      "인천항 출발시간: 07:50\n",
      "기항지 도착시간: 선사문의\n",
      "기항지 출발시간: 12:50\n",
      "인천항 도착시간: 16:30\n",
      "운항정보: 정상운항\n",
      "항로명: 백령항로\n",
      "선명: 하모니플라워호\n",
      "선사명: (주)에이치해운\n",
      "\n",
      "기항지명: 백령도\n",
      "인천항 출발시간: 08:30\n",
      "기항지 도착시간: 선사문의\n",
      "기항지 출발시간: 13:30\n",
      "인천항 도착시간: 17:30\n",
      "운항정보: 정상운항\n",
      "항로명: 백령항로\n",
      "선명: 코리아킹호\n",
      "선사명: 고려고속훼리(주)\n",
      "\n",
      "기항지명: 백령도\n",
      "인천항 출발시간: 13:00\n",
      "기항지 도착시간: 선사문의\n",
      "기항지 출발시간: 07:00\n",
      "인천항 도착시간: 11:50\n",
      "운항정보: 휴항\n",
      "항로명: 백령항로\n",
      "선명: 옹진훼미리호\n",
      "선사명: 고려고속훼리(주)\n",
      "\n"
     ]
    }
   ],
   "source": [
    "# \"백령도\" 관련된 정보만 가져오기\n",
    "for data in informations:\n",
    "    if data['alocname'] == '백령도':\n",
    "        print(\"기항지명: {}\".format(data['alocname']))\n",
    "        print(\"인천항 출발시간: {}\".format(data['starttime']))\n",
    "        print(\"기항지 도착시간: {}\".format(data['alocarvltime']))\n",
    "        print(\"기항지 출발시간: {}\".format(data['alocstarttime']))\n",
    "        print(\"인천항 도착시간: {}\".format(data['arvltime']))\n",
    "        print(\"운항정보: {}\".format(data['nvginfoname']))\n",
    "        print(\"항로명: {}\".format(data['ruteName']))\n",
    "        print(\"선명: {}\".format(data['shipname']))\n",
    "        print(\"선사명: {}\".format(data['wtorcmpname']))\n",
    "        print(\"\")\n",
    "        "
   ]
  },
  {
   "cell_type": "code",
   "execution_count": null,
   "metadata": {},
   "outputs": [],
   "source": []
  }
 ],
 "metadata": {
  "kernelspec": {
   "display_name": "Python 3",
   "language": "python",
   "name": "python3"
  },
  "language_info": {
   "codemirror_mode": {
    "name": "ipython",
    "version": 3
   },
   "file_extension": ".py",
   "mimetype": "text/x-python",
   "name": "python",
   "nbconvert_exporter": "python",
   "pygments_lexer": "ipython3",
   "version": "3.7.6"
  },
  "varInspector": {
   "cols": {
    "lenName": 16,
    "lenType": 16,
    "lenVar": 40
   },
   "kernels_config": {
    "python": {
     "delete_cmd_postfix": "",
     "delete_cmd_prefix": "del ",
     "library": "var_list.py",
     "varRefreshCmd": "print(var_dic_list())"
    },
    "r": {
     "delete_cmd_postfix": ") ",
     "delete_cmd_prefix": "rm(",
     "library": "var_list.r",
     "varRefreshCmd": "cat(var_dic_list()) "
    }
   },
   "types_to_exclude": [
    "module",
    "function",
    "builtin_function_or_method",
    "instance",
    "_Feature"
   ],
   "window_display": false
  }
 },
 "nbformat": 4,
 "nbformat_minor": 4
}
