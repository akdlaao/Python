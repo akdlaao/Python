{
 "cells": [
  {
   "cell_type": "code",
   "execution_count": 1,
   "metadata": {},
   "outputs": [
    {
     "name": "stdout",
     "output_type": "stream",
     "text": [
      "Python 3.7.6\n"
     ]
    }
   ],
   "source": [
    "!python --version"
   ]
  },
  {
   "cell_type": "code",
   "execution_count": 2,
   "metadata": {},
   "outputs": [
    {
     "data": {
      "text/plain": [
       "'C:\\\\Users\\\\sec\\\\Desktop\\\\Python_basic'"
      ]
     },
     "execution_count": 2,
     "metadata": {},
     "output_type": "execute_result"
    }
   ],
   "source": [
    "pwd"
   ]
  },
  {
   "cell_type": "code",
   "execution_count": 3,
   "metadata": {},
   "outputs": [],
   "source": [
    "import pandas as pd  # 판다스 - 데이터프레임(엑셀)\n",
    "import numpy as np   # 넘파이 - 수학 연산"
   ]
  },
  {
   "cell_type": "code",
   "execution_count": 4,
   "metadata": {},
   "outputs": [],
   "source": [
    "# 라이브러리 import\n",
    "# 라이브러리 : 필요한 도구\n",
    "from selenium import webdriver  # 라이브러리(모듈) 가져오라\n",
    "from selenium.webdriver import ActionChains as AC\n",
    "from tqdm import tqdm\n",
    "from tqdm import tqdm_notebook\n",
    "import re\n",
    "from time import sleep\n",
    "import time"
   ]
  },
  {
   "cell_type": "code",
   "execution_count": 5,
   "metadata": {},
   "outputs": [
    {
     "data": {
      "text/plain": [
       "'맛집'"
      ]
     },
     "execution_count": 5,
     "metadata": {},
     "output_type": "execute_result"
    }
   ],
   "source": [
    "# 데이터 수집할 키워드 지정\n",
    "keywords = [\"맛집\"]\n",
    "keywords[0]"
   ]
  },
  {
   "cell_type": "markdown",
   "metadata": {},
   "source": [
    "## 크롤링"
   ]
  },
  {
   "cell_type": "code",
   "execution_count": 14,
   "metadata": {},
   "outputs": [],
   "source": [
    "# 크롬창 띄우기\n",
    "driver = webdriver.Chrome(\"chromedriver.exe\")  # 크롬 드라이버 로드\n",
    "driver.get(\"https://www.instagram.com/explore/tags/%EB%A7%9B%EC%A7%91/\")  # \"#차량용방향제\" 검색\n",
    "time.sleep(5)"
   ]
  },
  {
   "cell_type": "code",
   "execution_count": 15,
   "metadata": {
    "scrolled": true
   },
   "outputs": [
    {
     "name": "stdout",
     "output_type": "stream",
     "text": [
      "0 \n",
      "1 \n",
      "2 \n",
      "3 \n",
      "5 \n",
      "6  화봉동총각포차 숯부닭 숯불부추닭갈비\n",
      "7 \n",
      "8  맑음 더움 눈부심 원주 맛집 오리진흙구이 오리떡갈비 잔치국수 원주맛집 맛집사랑 가족모임 오리요리 먹방가족 일상샷 daily 인스타데일리 7월어느날 비온뒤맑음\n",
      "9  뷰티템 여행중독 연애 맛집 첫줄 셀카놀이 개냥이 ootd 뷰티팁 카페스타그램 패션5 뷰티박람회 육아중 야경 커플 첫줄안녕 셀카투척 냥 카페라떼\n",
      "10  좋아요 좋아요반사 선팔 맞팔 선팔맞팔 좋아요환영 일상 소통 맛집 여행 셀스타그램 셀카 셀피 데일리 데일리룩 육아스타그램 육아소통 젊줌마 맘스타그램 육아맘\n",
      "11  셀스타그램 셀피 일상 데일리 소통 선팔하면맞팔 선팔환영 대구맛집 먹스타그램 맛스타그램 먹방 광주 좋아요 인친 전국 서울 럽스타그램 부산 인천 맛집 토요일 스노우 좋아요반사 맞팔 유투브 인싸 인친 코로나 짤\n",
      "12 \n",
      "13  운동 운스타그램 운동하는남자 헬스 헬스타그램 다이어트 셀카 셀스타그램 여자데일리룩 남자데일리룩 팔로우 선팔 맞팔 소통 얼굴 얼스타그램 보디빌딩 bodybuilding 체형교정 컨디션케어 바디프로필 맛집 JMT 먹스타그램 서울 영등포 신길동\n",
      "14  오늘점심 버들국수 석계역버들국수 석계역 먹방 육아맘 소통 맞팔 맛집\n",
      "15  사파동 창원브런치카페 창원카페 맛집 라라라브런치카페 창밖풍경 분위기좋은카페 둘이서분위기잡기 수다쟁이 둘여자 개띠아줌마 힐링된다\n",
      "16 \n",
      "17 \n",
      "18 \n",
      "19  총각네옛날통닭구갈점 총각네옛날통닭기흥구청점\n",
      "{0: {'picture': 'https://scontent-ssn1-1.cdninstagram.com/v/t51.2885-15/e35/s1080x1080/114757554_116493339934658_390567055591551994_n.jpg?_nc_ht=scontent-ssn1-1.cdninstagram.com&_nc_cat=102&_nc_ohc=UBinU1AlnhUAX-p9HDO&oh=602e850bfa4c7b2c003ac90d470c9287&oe=5F3EC15C', 'date': '2020년 7월 21일', 'like': '좋아요 146개', 'tag': ''}, 1: {'picture': 'https://scontent-ssn1-1.cdninstagram.com/v/t51.2885-15/e35/s1080x1080/109718659_753634018779351_6962700829446220564_n.jpg?_nc_ht=scontent-ssn1-1.cdninstagram.com&_nc_cat=103&_nc_ohc=Qam3bylksw4AX-8dMkq&oh=6b5a61408b7353e89e03c5c7f0f2d728&oe=5F412768', 'date': '2020년 7월 20일', 'like': '좋아요 282개', 'tag': ''}, 2: {'picture': 'https://scontent-ssn1-1.cdninstagram.com/v/t51.2885-15/e35/109305082_109996484021265_6504600261024244877_n.jpg?_nc_ht=scontent-ssn1-1.cdninstagram.com&_nc_cat=109&_nc_ohc=-96PNgYbHH0AX_cYdQR&oh=46327e2197c66a4126bcf64b4bbd71e2&oe=5F419AD6', 'date': '2020년 7월 21일', 'like': '좋아요 156개', 'tag': ''}, 3: {'picture': 'https://scontent-ssn1-1.cdninstagram.com/v/t51.2885-15/e35/s1080x1080/110912476_155373382809432_4134979921501177192_n.jpg?_nc_ht=scontent-ssn1-1.cdninstagram.com&_nc_cat=100&_nc_ohc=BVO2jZ30kDsAX_LC8ha&oh=9b470cad34101ac908ee76f9dc5a3565&oe=5F40A68D', 'date': '2020년 7월 21일', 'like': '좋아요 198개', 'tag': ''}, 5: {'picture': 'https://scontent-ssn1-1.cdninstagram.com/v/t51.2885-15/e35/s1080x1080/115806319_3414658875221999_6751681359813415021_n.jpg?_nc_ht=scontent-ssn1-1.cdninstagram.com&_nc_cat=111&_nc_ohc=lZiGJwuTsGkAX8wkdYk&oh=5107c395f4a1b2d68084b1b22e44b322&oe=5F3EE326', 'date': '2020년 7월 21일', 'like': '좋아요 129개', 'tag': ''}, 6: {'picture': 'https://scontent-ssn1-1.cdninstagram.com/v/t51.2885-15/e35/s1080x1080/110019750_1686314161518798_6154610714236314863_n.jpg?_nc_ht=scontent-ssn1-1.cdninstagram.com&_nc_cat=106&_nc_ohc=yblLwkeNpvAAX_AH8JR&oh=9e8abc234da88d92e101f1e1670e76e7&oe=5F40450C', 'date': '2020년 7월 21일', 'like': '좋아요 198개', 'tag': ' 화봉동총각포차 숯부닭 숯불부추닭갈비'}, 7: {'picture': 'https://scontent-ssn1-1.cdninstagram.com/v/t51.2885-15/e35/109733085_122043949276232_3424842261522647320_n.jpg?_nc_ht=scontent-ssn1-1.cdninstagram.com&_nc_cat=108&_nc_ohc=Nu88a3MYRSIAX9sozfj&oh=f1691a15cc786031a6d5fbb528f76602&oe=5F3F5EE0', 'date': '2020년 7월 21일', 'like': '좋아요 188개', 'tag': ''}, 8: {'picture': 'https://scontent-ssn1-1.cdninstagram.com/v/t51.2885-15/e35/s1080x1080/109268523_2513794192202599_5268910587965868275_n.jpg?_nc_ht=scontent-ssn1-1.cdninstagram.com&_nc_cat=107&_nc_ohc=v8WbrIHTuWMAX_pOsX-&oh=ae15bf1fb55a0958ee4d30902e549b60&oe=5F40F21E', 'date': '2020년 7월 21일', 'like': '가장 먼저 \\n좋아요\\n를 눌러보세요', 'tag': ' 맑음 더움 눈부심 원주 맛집 오리진흙구이 오리떡갈비 잔치국수 원주맛집 맛집사랑 가족모임 오리요리 먹방가족 일상샷 daily 인스타데일리 7월어느날 비온뒤맑음'}, 9: {'picture': 'https://scontent-ssn1-1.cdninstagram.com/v/t51.2885-15/e35/s1080x1080/116018054_644665396239517_8151991484700711393_n.jpg?_nc_ht=scontent-ssn1-1.cdninstagram.com&_nc_cat=101&_nc_ohc=yAzZmrl78t0AX-hlQ24&oh=04bd218fe0b07df5b1f0b7805ec3c05a&oe=5F3E2EC5', 'date': '2020년 7월 21일', 'like': '가장 먼저 \\n좋아요\\n를 눌러보세요', 'tag': ' 뷰티템 여행중독 연애 맛집 첫줄 셀카놀이 개냥이 ootd 뷰티팁 카페스타그램 패션5 뷰티박람회 육아중 야경 커플 첫줄안녕 셀카투척 냥 카페라떼'}, 10: {'picture': 'https://scontent-ssn1-1.cdninstagram.com/v/t51.2885-15/e35/115600015_350533989271881_2256345956576523575_n.jpg?_nc_ht=scontent-ssn1-1.cdninstagram.com&_nc_cat=109&_nc_ohc=hofflD-_ue0AX_Xbszo&oh=6c8bad7df5ecbf82f725329a66b1b698&oe=5F406608', 'date': '2020년 7월 21일', 'like': '좋아요 1개', 'tag': ' 좋아요 좋아요반사 선팔 맞팔 선팔맞팔 좋아요환영 일상 소통 맛집 여행 셀스타그램 셀카 셀피 데일리 데일리룩 육아스타그램 육아소통 젊줌마 맘스타그램 육아맘'}, 11: {'picture': 'https://scontent-ssn1-1.cdninstagram.com/v/t51.2885-15/e35/111029410_209330430432772_2026954516292299466_n.jpg?_nc_ht=scontent-ssn1-1.cdninstagram.com&_nc_cat=104&_nc_ohc=dzkXm5ZNpL8AX9R0Gzd&oh=68426f700293ba8d2449f0790a643f9e&oe=5F417BD9', 'date': '2020년 7월 21일', 'like': '좋아요 5개', 'tag': ' 셀스타그램 셀피 일상 데일리 소통 선팔하면맞팔 선팔환영 대구맛집 먹스타그램 맛스타그램 먹방 광주 좋아요 인친 전국 서울 럽스타그램 부산 인천 맛집 토요일 스노우 좋아요반사 맞팔 유투브 인싸 인친 코로나 짤'}, 12: {'picture': 'https://scontent-ssn1-1.cdninstagram.com/v/t51.2885-15/e35/s1080x1080/109535414_1253295258346900_1351846493725952615_n.jpg?_nc_ht=scontent-ssn1-1.cdninstagram.com&_nc_cat=104&_nc_ohc=ZoX7ngXOSkQAX-UuKsh&oh=1a551707aee35985d652daa7b71834e1&oe=5F416095', 'date': '2020년 7월 21일', 'like': '좋아요 2개', 'tag': ''}, 13: {'picture': 'https://scontent-ssn1-1.cdninstagram.com/v/t51.2885-15/e35/p1080x1080/113408769_1035523723548087_6507043791839732576_n.jpg?_nc_ht=scontent-ssn1-1.cdninstagram.com&_nc_cat=103&_nc_ohc=DujKuaZe06YAX_I_fO4&oh=98f18c1d71461a1d90aad5ad63a931ee&oe=5F40CA04', 'date': '2020년 7월 21일', 'like': '좋아요 2개', 'tag': ' 운동 운스타그램 운동하는남자 헬스 헬스타그램 다이어트 셀카 셀스타그램 여자데일리룩 남자데일리룩 팔로우 선팔 맞팔 소통 얼굴 얼스타그램 보디빌딩 bodybuilding 체형교정 컨디션케어 바디프로필 맛집 JMT 먹스타그램 서울 영등포 신길동'}, 14: {'picture': 'https://scontent-ssn1-1.cdninstagram.com/v/t51.2885-15/e35/s1080x1080/109994880_2726088744274136_1867526603325373702_n.jpg?_nc_ht=scontent-ssn1-1.cdninstagram.com&_nc_cat=108&_nc_ohc=BnvgsCjOL8gAX-8e9b4&oh=074fb72972f840d6b5c781d9bb41f37d&oe=5F3E936C', 'date': '2020년 7월 21일', 'like': '좋아요 1개', 'tag': ' 오늘점심 버들국수 석계역버들국수 석계역 먹방 육아맘 소통 맞팔 맛집'}, 15: {'picture': 'https://scontent-ssn1-1.cdninstagram.com/v/t51.2885-15/e35/s1080x1080/113178711_296291388451663_8076589993158910484_n.jpg?_nc_ht=scontent-ssn1-1.cdninstagram.com&_nc_cat=107&_nc_ohc=WqT4yGBZz7cAX86KTcT&oh=a6606c984e41031d2bce6c973b0e4234&oe=5F40DD5D', 'date': '2020년 7월 21일', 'like': '가장 먼저 \\n좋아요\\n를 눌러보세요', 'tag': ' 사파동 창원브런치카페 창원카페 맛집 라라라브런치카페 창밖풍경 분위기좋은카페 둘이서분위기잡기 수다쟁이 둘여자 개띠아줌마 힐링된다'}, 16: {'picture': 'https://scontent-ssn1-1.cdninstagram.com/v/t51.2885-15/e35/p1080x1080/109721250_335844867420196_7483636763514892753_n.jpg?_nc_ht=scontent-ssn1-1.cdninstagram.com&_nc_cat=104&_nc_ohc=m25ZYMQ-rQQAX86iCQY&oh=3a6bea5ebb801c04fa5c2a8c562c1e2d&oe=5F407577', 'date': '2020년 7월 21일', 'like': '좋아요 1개', 'tag': ''}, 17: {'picture': 'https://scontent-ssn1-1.cdninstagram.com/v/t51.2885-15/e35/s1080x1080/109549451_1301855883539186_6816145000060327495_n.jpg?_nc_ht=scontent-ssn1-1.cdninstagram.com&_nc_cat=102&_nc_ohc=injyeaCPZyoAX8woxS3&oh=f19c60af82168d1625b6572dab71c345&oe=5F40ECE7', 'date': '2020년 7월 21일', 'like': '좋아요 14개', 'tag': ''}, 18: {'picture': 'https://scontent-ssn1-1.cdninstagram.com/v/t51.2885-15/e35/s1080x1080/115867299_585608349048672_1909166791940966756_n.jpg?_nc_ht=scontent-ssn1-1.cdninstagram.com&_nc_cat=100&_nc_ohc=utTmCTYJPh8AX8G_0B4&oh=35e7ac4ac8598e034915d69bc86312aa&oe=5F4120D6', 'date': '2020년 7월 21일', 'like': '좋아요 2개', 'tag': ''}, 19: {'picture': 'https://scontent-ssn1-1.cdninstagram.com/v/t51.2885-15/e35/s1080x1080/115792280_309346076920186_1525210747979665954_n.jpg?_nc_ht=scontent-ssn1-1.cdninstagram.com&_nc_cat=110&_nc_ohc=ApDiziDjY_gAX-8YcZq&oh=ee28b3f09b3f2f39a0809a8c52b60c3d&oe=5F41F183', 'date': '2020년 7월 21일', 'like': '좋아요 2개', 'tag': ' 총각네옛날통닭구갈점 총각네옛날통닭기흥구청점'}}\n"
     ]
    },
    {
     "ename": "FileNotFoundError",
     "evalue": "[Errno 2] No such file or directory: 'data/test(맛집).csv'",
     "output_type": "error",
     "traceback": [
      "\u001b[1;31m---------------------------------------------------------------------------\u001b[0m",
      "\u001b[1;31mFileNotFoundError\u001b[0m                         Traceback (most recent call last)",
      "\u001b[1;32m<ipython-input-15-e91bdc7de249>\u001b[0m in \u001b[0;36m<module>\u001b[1;34m\u001b[0m\n\u001b[0;32m     76\u001b[0m \u001b[1;33m\u001b[0m\u001b[0m\n\u001b[0;32m     77\u001b[0m     \u001b[1;31m# csv 형식(엑셀이랑 비슷한 파일)으로 저장\u001b[0m\u001b[1;33m\u001b[0m\u001b[1;33m\u001b[0m\u001b[1;33m\u001b[0m\u001b[0m\n\u001b[1;32m---> 78\u001b[1;33m     \u001b[0mresult_df\u001b[0m\u001b[1;33m.\u001b[0m\u001b[0mto_csv\u001b[0m\u001b[1;33m(\u001b[0m\u001b[1;34m\"data/test({}).csv\"\u001b[0m\u001b[1;33m.\u001b[0m\u001b[0mformat\u001b[0m\u001b[1;33m(\u001b[0m\u001b[0mkeyword\u001b[0m\u001b[1;33m)\u001b[0m\u001b[1;33m,\u001b[0m \u001b[0mencoding\u001b[0m\u001b[1;33m=\u001b[0m\u001b[1;34m'euc-kr'\u001b[0m\u001b[1;33m)\u001b[0m\u001b[1;33m\u001b[0m\u001b[1;33m\u001b[0m\u001b[0m\n\u001b[0m",
      "\u001b[1;32m~\\anaconda3\\lib\\site-packages\\pandas\\core\\generic.py\u001b[0m in \u001b[0;36mto_csv\u001b[1;34m(self, path_or_buf, sep, na_rep, float_format, columns, header, index, index_label, mode, encoding, compression, quoting, quotechar, line_terminator, chunksize, date_format, doublequote, escapechar, decimal)\u001b[0m\n\u001b[0;32m   3202\u001b[0m             \u001b[0mdecimal\u001b[0m\u001b[1;33m=\u001b[0m\u001b[0mdecimal\u001b[0m\u001b[1;33m,\u001b[0m\u001b[1;33m\u001b[0m\u001b[1;33m\u001b[0m\u001b[0m\n\u001b[0;32m   3203\u001b[0m         )\n\u001b[1;32m-> 3204\u001b[1;33m         \u001b[0mformatter\u001b[0m\u001b[1;33m.\u001b[0m\u001b[0msave\u001b[0m\u001b[1;33m(\u001b[0m\u001b[1;33m)\u001b[0m\u001b[1;33m\u001b[0m\u001b[1;33m\u001b[0m\u001b[0m\n\u001b[0m\u001b[0;32m   3205\u001b[0m \u001b[1;33m\u001b[0m\u001b[0m\n\u001b[0;32m   3206\u001b[0m         \u001b[1;32mif\u001b[0m \u001b[0mpath_or_buf\u001b[0m \u001b[1;32mis\u001b[0m \u001b[1;32mNone\u001b[0m\u001b[1;33m:\u001b[0m\u001b[1;33m\u001b[0m\u001b[1;33m\u001b[0m\u001b[0m\n",
      "\u001b[1;32m~\\anaconda3\\lib\\site-packages\\pandas\\io\\formats\\csvs.py\u001b[0m in \u001b[0;36msave\u001b[1;34m(self)\u001b[0m\n\u001b[0;32m    186\u001b[0m                 \u001b[0mself\u001b[0m\u001b[1;33m.\u001b[0m\u001b[0mmode\u001b[0m\u001b[1;33m,\u001b[0m\u001b[1;33m\u001b[0m\u001b[1;33m\u001b[0m\u001b[0m\n\u001b[0;32m    187\u001b[0m                 \u001b[0mencoding\u001b[0m\u001b[1;33m=\u001b[0m\u001b[0mself\u001b[0m\u001b[1;33m.\u001b[0m\u001b[0mencoding\u001b[0m\u001b[1;33m,\u001b[0m\u001b[1;33m\u001b[0m\u001b[1;33m\u001b[0m\u001b[0m\n\u001b[1;32m--> 188\u001b[1;33m                 \u001b[0mcompression\u001b[0m\u001b[1;33m=\u001b[0m\u001b[0mdict\u001b[0m\u001b[1;33m(\u001b[0m\u001b[0mself\u001b[0m\u001b[1;33m.\u001b[0m\u001b[0mcompression_args\u001b[0m\u001b[1;33m,\u001b[0m \u001b[0mmethod\u001b[0m\u001b[1;33m=\u001b[0m\u001b[0mself\u001b[0m\u001b[1;33m.\u001b[0m\u001b[0mcompression\u001b[0m\u001b[1;33m)\u001b[0m\u001b[1;33m,\u001b[0m\u001b[1;33m\u001b[0m\u001b[1;33m\u001b[0m\u001b[0m\n\u001b[0m\u001b[0;32m    189\u001b[0m             )\n\u001b[0;32m    190\u001b[0m             \u001b[0mclose\u001b[0m \u001b[1;33m=\u001b[0m \u001b[1;32mTrue\u001b[0m\u001b[1;33m\u001b[0m\u001b[1;33m\u001b[0m\u001b[0m\n",
      "\u001b[1;32m~\\anaconda3\\lib\\site-packages\\pandas\\io\\common.py\u001b[0m in \u001b[0;36mget_handle\u001b[1;34m(path_or_buf, mode, encoding, compression, memory_map, is_text)\u001b[0m\n\u001b[0;32m    426\u001b[0m         \u001b[1;32mif\u001b[0m \u001b[0mencoding\u001b[0m\u001b[1;33m:\u001b[0m\u001b[1;33m\u001b[0m\u001b[1;33m\u001b[0m\u001b[0m\n\u001b[0;32m    427\u001b[0m             \u001b[1;31m# Encoding\u001b[0m\u001b[1;33m\u001b[0m\u001b[1;33m\u001b[0m\u001b[1;33m\u001b[0m\u001b[0m\n\u001b[1;32m--> 428\u001b[1;33m             \u001b[0mf\u001b[0m \u001b[1;33m=\u001b[0m \u001b[0mopen\u001b[0m\u001b[1;33m(\u001b[0m\u001b[0mpath_or_buf\u001b[0m\u001b[1;33m,\u001b[0m \u001b[0mmode\u001b[0m\u001b[1;33m,\u001b[0m \u001b[0mencoding\u001b[0m\u001b[1;33m=\u001b[0m\u001b[0mencoding\u001b[0m\u001b[1;33m,\u001b[0m \u001b[0mnewline\u001b[0m\u001b[1;33m=\u001b[0m\u001b[1;34m\"\"\u001b[0m\u001b[1;33m)\u001b[0m\u001b[1;33m\u001b[0m\u001b[1;33m\u001b[0m\u001b[0m\n\u001b[0m\u001b[0;32m    429\u001b[0m         \u001b[1;32melif\u001b[0m \u001b[0mis_text\u001b[0m\u001b[1;33m:\u001b[0m\u001b[1;33m\u001b[0m\u001b[1;33m\u001b[0m\u001b[0m\n\u001b[0;32m    430\u001b[0m             \u001b[1;31m# No explicit encoding\u001b[0m\u001b[1;33m\u001b[0m\u001b[1;33m\u001b[0m\u001b[1;33m\u001b[0m\u001b[0m\n",
      "\u001b[1;31mFileNotFoundError\u001b[0m: [Errno 2] No such file or directory: 'data/test(맛집).csv'"
     ]
    }
   ],
   "source": [
    "for keyword in keywords:\n",
    "    dict = {}                                                       # 전체 데이터를 담을 딕셔너리 생성\n",
    "    # 사진 클릭\n",
    "    CSS_tran=\"div.Nnq7C.weEfm\"                         # 사진 버튼 정의 (\"div.Nnq7C.weEfm\")\n",
    "    tran_button = driver.find_element_by_css_selector(CSS_tran)     # 사진 버튼 찾기\n",
    "    AC(driver).move_to_element(tran_button).click().perform()       # 사진 버튼 클릭\n",
    "    time.sleep(1)\n",
    "\n",
    "    # 크롤링 시작\n",
    "    len_insta = 20   # 몇 개 글을 크롤링 할건지\n",
    "\n",
    "    for i in range(0, len_insta):    # range : 숫자가 1씩하는 함수\n",
    "\n",
    "        target_info = {}                                            # 사진별 데이터를 담을 딕셔너리 생성\n",
    "\n",
    "        try:    # 크롤링을 시도해라.\n",
    "            # 사진(pic) 크롤링 시작\n",
    "            overlays1 = \"div._2dDPU.CkGkG .FFVAD\"                   # 사진창 속 사진   \n",
    "            img = driver.find_element_by_css_selector(overlays1)    # 사진 선택\n",
    "            pic = img.get_attribute('src')                          # 사진 url 크롤링 완료\n",
    "            target_info['picture'] = pic\n",
    "            # print(target_info)\n",
    "\n",
    "            # 날짜(date) 크롤링 시작\n",
    "            overlays2 = \"div._2dDPU.CkGkG .c-Yi7 > time\"                  # 날짜 지정\n",
    "            datum2 = driver.find_element_by_css_selector(overlays2)     # 날짜 선택\n",
    "            date = datum2.get_attribute('title')\n",
    "    #         get_attribute('title')                                    # 날짜 크롤링 완료\n",
    "            target_info['date'] = date\n",
    "            # print(target_info)\n",
    "            # print(datalist)\n",
    "\n",
    "            # 좋아요(like) 크롤링 시작\n",
    "            overlays3 = \".Nm9Fw\"                                        # 리뷰창 속 날짜\n",
    "            datum3 = driver.find_element_by_css_selector(overlays3)     # 리뷰 선택\n",
    "            like = datum3.text                                          # 좋아요 크롤링 완료\n",
    "            target_info['like'] = like\n",
    "            # print(target_info)\n",
    "\n",
    "            # 해시태그(tag) 크롤링 시작\n",
    "            overlays4 = \".C7I1f.X7jCj\"                                  # 태그 지정\n",
    "            datum3 = driver.find_element_by_css_selector(overlays4)     # 태그 선택\n",
    "            tag_raw = datum3.text\n",
    "            tags = re.findall('#[A-Za-z0-9가-힣]+', tag_raw)            # \"\"#OOO\"만 뽑아오기(OOO: 한글,숫자,영어,_)\n",
    "            tag = ''.join(tags).replace(\"#\",\" \")                        # \"#\" 제거\n",
    "            target_info['tag'] = tag\n",
    "            # print(target_info)\n",
    "\n",
    "            dict[i] = target_info            # 토탈 딕셔너리로 만들기\n",
    "\n",
    "            print(\"{0}\".format(i), tag)\n",
    "\n",
    "            # 다음장 클릭\n",
    "            hit=0\n",
    "            while hit < 1:                          # 몇 번에 한번씩 크롤링할 것인지 숫자 지정\n",
    "                hit+=1\n",
    "                CSS_tran2=\"a._65Bje.coreSpriteRightPaginationArrow\"             # 다음 버튼 정의\n",
    "                tran_button2 = driver.find_element_by_css_selector(CSS_tran2)  # 다음 버튼 find\n",
    "                AC(driver).move_to_element(tran_button2).click().perform()     # 다음 버튼 클릭\n",
    "                time.sleep(2)\n",
    "\n",
    "        except:  # 에러가 나면 다음장을 클릭해라\n",
    "            # 다음장 클릭\n",
    "            CSS_tran2=\"a._65Bje.coreSpriteRightPaginationArrow\"             # 다음 버튼 정의\n",
    "            tran_button2 = driver.find_element_by_css_selector(CSS_tran2)  # 다음 버튼 find\n",
    "            AC(driver).move_to_element(tran_button2).click().perform()     # 다음 버튼 클릭\n",
    "            time.sleep(2)\n",
    "\n",
    "    print(dict)\n",
    "\n",
    "    # 판다스로 만들기 : 엑셀(테이블) 형식으로 만들기\n",
    "    import pandas as pd\n",
    "    result_df = pd.DataFrame.from_dict(dict, 'index')\n",
    "\n",
    "    n = result_df['picture'].count()\n",
    "\n",
    "    # csv 형식(엑셀이랑 비슷한 파일)으로 저장\n",
    "    result_df.to_csv(\"data/test({}).csv\".format(keyword), encoding='euc-kr')"
   ]
  },
  {
   "cell_type": "code",
   "execution_count": null,
   "metadata": {},
   "outputs": [],
   "source": [
    "pwd"
   ]
  },
  {
   "cell_type": "code",
   "execution_count": null,
   "metadata": {},
   "outputs": [],
   "source": [
    "num_pic = len(result_df['picture'])\n",
    "num_pic"
   ]
  },
  {
   "cell_type": "code",
   "execution_count": null,
   "metadata": {},
   "outputs": [],
   "source": [
    "# 이미지들 image 폴더에 다운받기\n",
    "import urllib.request\n",
    "\n",
    "for i in range(0, 50):\n",
    "    try:\n",
    "        index=result_df['picture'][i]\n",
    "        urllib.request.urlretrieve(index, \"image/perfume{0}_{1}.jpg\".format(date, i))        \n",
    "    except:\n",
    "        pass"
   ]
  },
  {
   "cell_type": "markdown",
   "metadata": {},
   "source": [
    "끝"
   ]
  },
  {
   "cell_type": "code",
   "execution_count": null,
   "metadata": {},
   "outputs": [],
   "source": []
  }
 ],
 "metadata": {
  "kernelspec": {
   "display_name": "Python 3",
   "language": "python",
   "name": "python3"
  },
  "language_info": {
   "codemirror_mode": {
    "name": "ipython",
    "version": 3
   },
   "file_extension": ".py",
   "mimetype": "text/x-python",
   "name": "python",
   "nbconvert_exporter": "python",
   "pygments_lexer": "ipython3",
   "version": "3.7.6"
  }
 },
 "nbformat": 4,
 "nbformat_minor": 2
}
