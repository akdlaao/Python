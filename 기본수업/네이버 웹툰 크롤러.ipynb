{
 "cells": [
  {
   "cell_type": "code",
   "execution_count": 1,
   "metadata": {
    "scrolled": true
   },
   "outputs": [
    {
     "name": "stdout",
     "output_type": "stream",
     "text": [
      "('64bit', 'WindowsPE')\n"
     ]
    }
   ],
   "source": [
    "import platform\n",
    "print(platform.architecture())"
   ]
  },
  {
   "cell_type": "code",
   "execution_count": 2,
   "metadata": {},
   "outputs": [
    {
     "name": "stdout",
     "output_type": "stream",
     "text": [
      "Python 3.7.6\n"
     ]
    }
   ],
   "source": [
    "!python --version"
   ]
  },
  {
   "cell_type": "code",
   "execution_count": 3,
   "metadata": {
    "scrolled": true
   },
   "outputs": [
    {
     "data": {
      "text/plain": [
       "'C:\\\\Users\\\\sec\\\\Desktop\\\\Python_basic'"
      ]
     },
     "execution_count": 3,
     "metadata": {},
     "output_type": "execute_result"
    }
   ],
   "source": [
    "pwd"
   ]
  },
  {
   "cell_type": "code",
   "execution_count": 5,
   "metadata": {},
   "outputs": [],
   "source": [
    "# 네이버에서 검색어 입력받아 검색 한 후 블로그 메뉴를 선택하고\n",
    "# 오른쪽에 있는 검색옵션 버튼을 눌러서\n",
    "# 정렬 방식과 기간을 입력하기\n",
    "\n",
    "#Step 0. 필요한 모듈과 라이브러리를 로딩합니다.\n",
    "import sys\n",
    "import os\n",
    "import pandas as pd\n",
    "import numpy as np\n",
    "\n",
    "from bs4 import BeautifulSoup\n",
    "from selenium import webdriver\n",
    "import time\n",
    "import tqdm\n",
    "from tqdm.notebook import tqdm"
   ]
  },
  {
   "cell_type": "raw",
   "metadata": {},
   "source": [
    "query_txt = input('1.크롤링할 키워드는 무엇입니까?: ')\n",
    "# query_txt2 = input('2.제외할 첫번째 키워드를 입력하세요: ')\n",
    "# query_txt3 = input('3.제외할 두번째 키워드를 입력하세요: '|)\n",
    "\n",
    "start_date = input('4.조회를 시작할 날짜를 입력하세요(예:20170101) :')\n",
    "end_date = input('5.조회를 종료할 날짜를 입력하세요(예:20171231): ')\n",
    "\n",
    "for j in range(0,10):\n",
    "        rating = driver.find_elements_by_css_selector('.rating_type')\n",
    "        star = rating[j].find_elements_by_css_selector('strong')\n",
    "        score=score + float(star[0].text)\n",
    "        mean_score = score / 10.\n",
    "        total_dic['score'] = mean_score"
   ]
  },
  {
   "cell_type": "code",
   "execution_count": 6,
   "metadata": {},
   "outputs": [
    {
     "name": "stdout",
     "output_type": "stream",
     "text": [
      "('64bit', 'WindowsPE')\n"
     ]
    }
   ],
   "source": [
    "import platform\n",
    "\n",
    "print(platform.architecture())\n"
   ]
  },
  {
   "cell_type": "code",
   "execution_count": 7,
   "metadata": {
    "code_folding": []
   },
   "outputs": [],
   "source": [
    "#Step 1. 크롬 웹브라우저 실행\n",
    "path = \"chromedriver.exe\"   # 윈도우는 \"chromedriver.exe\"\n",
    "\n",
    "driver = webdriver.Chrome(path)\n",
    "# 사이트 주소는 네이버\n",
    "driver.get('http://www.naver.com')\n",
    "time.sleep(2)\n",
    "\n",
    "# Step 2. 네이버 웹툰 접속\n",
    "driver.find_element_by_xpath(\"\"\"//*[@id=\"NM_FAVORITE\"]/div[1]/ul[2]/li[9]/a\"\"\").click()\n",
    "\n",
    "#Step 3. \"웹툰\" 카테고리 선택\n",
    "driver.find_element_by_link_text(\"웹툰\").click( )    # .click() 괄호 안을 눌러라는 뜻\n",
    "\n",
    "## 글 url 크롤링 시작"
   ]
  },
  {
   "cell_type": "code",
   "execution_count": 124,
   "metadata": {
    "scrolled": true
   },
   "outputs": [
    {
     "data": {
      "text/plain": [
       "{'mon': {'title': '싸움독학', 'rating': '9.82'},\n",
       " 'tue': {'title': '싸움독학', 'rating': '9.82'},\n",
       " 'wed': {'title': '싸움독학', 'rating': '9.82'},\n",
       " 'thu': {'title': '싸움독학', 'rating': '9.82'},\n",
       " 'fri': {'title': '싸움독학', 'rating': '9.82'},\n",
       " 'sat': {'title': '싸움독학', 'rating': '9.82'},\n",
       " 'sun': {'title': '싸움독학', 'rating': '9.82'}}"
      ]
     },
     "execution_count": 124,
     "metadata": {},
     "output_type": "execute_result"
    }
   ],
   "source": [
    "'''for i in range(0,5):\n",
    "    img_list = driver.find_element_by_css_selector('.img_list')\n",
    "    photograph = img_list.find_elements_by_tag_name('li dl dt a')\n",
    "    title = photograph[i].get_attribute('title')\n",
    "    rating_type = img_list.find_elements_by_css_selector('.rating_type')\n",
    "    star = rating_type[i].find_elements_by_css_selector('strong')\n",
    "    print(star[0].text, title)\n",
    "'''\n",
    "for j in range(0,2):\n",
    "\n",
    "    try:\n",
    "        img_list = driver.find_element_by_css_selector('.img_list')\n",
    "        photograph = img_list.find_elements_by_tag_name('li dl dt a')\n",
    "        title = photograph[j].get_attribute('title')\n",
    "        rating_type = img_list.find_elements_by_css_selector('.rating_type')\n",
    "        star = rating_type[j].find_elements_by_css_selector('strong')\n",
    "        dic['title'] = title\n",
    "        dic['rating'] = star[0].text\n",
    "        total_dic[i] = dic\n",
    "    except:\n",
    "        break\n",
    "total_dic"
   ]
  },
  {
   "cell_type": "code",
   "execution_count": 147,
   "metadata": {
    "scrolled": false
   },
   "outputs": [
    {
     "ename": "AttributeError",
     "evalue": "'dict' object has no attribute 'T'",
     "output_type": "error",
     "traceback": [
      "\u001b[1;31m---------------------------------------------------------------------------\u001b[0m",
      "\u001b[1;31mAttributeError\u001b[0m                            Traceback (most recent call last)",
      "\u001b[1;32m<ipython-input-147-509958caacef>\u001b[0m in \u001b[0;36m<module>\u001b[1;34m\u001b[0m\n\u001b[0;32m     22\u001b[0m \u001b[1;33m\u001b[0m\u001b[0m\n\u001b[0;32m     23\u001b[0m     \u001b[0mtotal_dic\u001b[0m\u001b[1;33m[\u001b[0m\u001b[0mi\u001b[0m\u001b[1;33m]\u001b[0m \u001b[1;33m=\u001b[0m \u001b[0mday_dic\u001b[0m\u001b[1;33m\u001b[0m\u001b[1;33m\u001b[0m\u001b[0m\n\u001b[1;32m---> 24\u001b[1;33m     \u001b[0mtotal_dic2\u001b[0m \u001b[1;33m=\u001b[0m \u001b[0mtotal_dic\u001b[0m\u001b[1;33m.\u001b[0m\u001b[0mT\u001b[0m\u001b[1;33m\u001b[0m\u001b[1;33m\u001b[0m\u001b[0m\n\u001b[0m\u001b[0;32m     25\u001b[0m \u001b[1;33m\u001b[0m\u001b[0m\n\u001b[0;32m     26\u001b[0m \u001b[0mresult_df\u001b[0m \u001b[1;33m=\u001b[0m \u001b[0mpd\u001b[0m\u001b[1;33m.\u001b[0m\u001b[0mDataFrame\u001b[0m\u001b[1;33m.\u001b[0m\u001b[0mfrom_dict\u001b[0m\u001b[1;33m(\u001b[0m\u001b[0mtotal_dic2\u001b[0m\u001b[1;33m,\u001b[0m \u001b[1;34m'index'\u001b[0m\u001b[1;33m)\u001b[0m\u001b[1;33m\u001b[0m\u001b[1;33m\u001b[0m\u001b[0m\n",
      "\u001b[1;31mAttributeError\u001b[0m: 'dict' object has no attribute 'T'"
     ]
    }
   ],
   "source": [
    "total_dic = {}\n",
    "day_info = ['mon', 'tue', 'wed', 'thu', 'fri', 'sat', 'sun']\n",
    "\n",
    "for i in day_info:\n",
    "    \n",
    "    driver.get(\"https://comic.naver.com/webtoon/weekdayList.nhn?week={}\".format(i))\n",
    "    \n",
    "    day_dic = {}\n",
    "    \n",
    "    img_list = driver.find_element_by_css_selector('.img_list')\n",
    "    photograph = img_list.find_elements_by_tag_name('li dl dt a')\n",
    "    rating_type = img_list.find_elements_by_css_selector('.rating_type')\n",
    "    \n",
    "    # 평점 추출 코드\n",
    "    for j in range(len(photograph)):\n",
    "        dic = {}\n",
    "        title = photograph[j].get_attribute('title')\n",
    "        star = rating_type[j].find_elements_by_css_selector('strong')\n",
    "        dic['title'] = title\n",
    "        dic['rating'] = star[0].text\n",
    "        day_dic[j] = dic\n",
    "    \n",
    "    total_dic[i] = day_dic\n",
    "\n",
    "    \n",
    "result_df = pd.DataFrame.from_dict(total_dic, 'index')\n",
    "\n",
    "# 저장하기\n",
    "result_df.to_excel(\"webtoon.xlsx\")"
   ]
  },
  {
   "cell_type": "code",
   "execution_count": null,
   "metadata": {},
   "outputs": [],
   "source": []
  }
 ],
 "metadata": {
  "kernelspec": {
   "display_name": "Python 3",
   "language": "python",
   "name": "python3"
  },
  "language_info": {
   "codemirror_mode": {
    "name": "ipython",
    "version": 3
   },
   "file_extension": ".py",
   "mimetype": "text/x-python",
   "name": "python",
   "nbconvert_exporter": "python",
   "pygments_lexer": "ipython3",
   "version": "3.7.6"
  },
  "toc": {
   "base_numbering": 1,
   "nav_menu": {},
   "number_sections": false,
   "sideBar": true,
   "skip_h1_title": false,
   "title_cell": "Table of Contents",
   "title_sidebar": "Contents",
   "toc_cell": false,
   "toc_position": {},
   "toc_section_display": true,
   "toc_window_display": false
  },
  "varInspector": {
   "cols": {
    "lenName": 16,
    "lenType": 16,
    "lenVar": 40
   },
   "kernels_config": {
    "python": {
     "delete_cmd_postfix": "",
     "delete_cmd_prefix": "del ",
     "library": "var_list.py",
     "varRefreshCmd": "print(var_dic_list())"
    },
    "r": {
     "delete_cmd_postfix": ") ",
     "delete_cmd_prefix": "rm(",
     "library": "var_list.r",
     "varRefreshCmd": "cat(var_dic_list()) "
    }
   },
   "position": {
    "height": "600px",
    "left": "554.76px",
    "right": "20px",
    "top": "88px",
    "width": "424px"
   },
   "types_to_exclude": [
    "module",
    "function",
    "builtin_function_or_method",
    "instance",
    "_Feature"
   ],
   "window_display": false
  }
 },
 "nbformat": 4,
 "nbformat_minor": 2
}
