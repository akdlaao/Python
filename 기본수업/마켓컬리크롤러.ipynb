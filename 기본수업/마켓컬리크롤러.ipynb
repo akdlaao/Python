{
 "cells": [
  {
   "cell_type": "code",
   "execution_count": 3,
   "metadata": {},
   "outputs": [],
   "source": [
    "import pandas as pd\n",
    "import numpy as np"
   ]
  },
  {
   "cell_type": "code",
   "execution_count": 4,
   "metadata": {},
   "outputs": [],
   "source": [
    "from selenium import webdriver\n",
    "from selenium.webdriver import ActionChains as AC\n",
    "from tqdm import tqdm\n",
    "from tqdm import tqdm_notebook\n",
    "import re\n",
    "from time import sleep\n",
    "import time"
   ]
  },
  {
   "cell_type": "code",
   "execution_count": 5,
   "metadata": {},
   "outputs": [
    {
     "data": {
      "text/plain": [
       "'C:\\\\Users\\\\sec\\\\Desktop\\\\Python_basic\\\\Python_basic'"
      ]
     },
     "execution_count": 5,
     "metadata": {},
     "output_type": "execute_result"
    }
   ],
   "source": [
    "pwd"
   ]
  },
  {
   "cell_type": "code",
   "execution_count": 6,
   "metadata": {},
   "outputs": [],
   "source": [
    "# 크롬창 띄우기\n",
    "driver = webdriver.Chrome(\"chromedriver.exe\")  # 크롬 드라이버 로드\n",
    "driver.get(\"https://www.kurly.com/shop/goods/goods_list.php?category=038\")\n",
    "time.sleep(3)"
   ]
  },
  {
   "cell_type": "code",
   "execution_count": 7,
   "metadata": {},
   "outputs": [
    {
     "data": {
      "text/plain": [
       "'https://img-cf.kurly.com/shop/data/goods/1500627673391l0.jpg'"
      ]
     },
     "execution_count": 7,
     "metadata": {},
     "output_type": "execute_result"
    }
   ],
   "source": [
    "#사진\n",
    "overlays1 = '.img > img' \n",
    "imgs = driver.find_elements_by_css_selector(overlays1)\n",
    "pic = imgs[0].get_attribute('src')\n",
    "pic"
   ]
  },
  {
   "cell_type": "code",
   "execution_count": 8,
   "metadata": {
    "scrolled": true
   },
   "outputs": [
    {
     "data": {
      "text/plain": [
       "'저탄소 GAP 고당도 아삭 복숭아 (4~6개입)'"
      ]
     },
     "execution_count": 8,
     "metadata": {},
     "output_type": "execute_result"
    }
   ],
   "source": [
    "#상품명\n",
    "overlays2 = \".info > .name\"\n",
    "item_titles = driver.find_elements_by_css_selector(overlays2)\n",
    "title = item_titles[0].text\n",
    "title\n",
    "\n",
    "# target_info['title'] = titles\n",
    "# target_info\n",
    "\n",
    "#goodsList > div.list_goods > div > ul > li:nth-child(1) > div > a > span.name"
   ]
  },
  {
   "cell_type": "code",
   "execution_count": 8,
   "metadata": {},
   "outputs": [
    {
     "data": {
      "text/plain": [
       "'7,900원'"
      ]
     },
     "execution_count": 8,
     "metadata": {},
     "output_type": "execute_result"
    }
   ],
   "source": [
    "#가격\n",
    "overlays3 = \".info > .cost\"\n",
    "costs = driver.find_elements_by_css_selector(overlays3)\n",
    "cost = costs[0].text\n",
    "cost"
   ]
  },
  {
   "cell_type": "code",
   "execution_count": 9,
   "metadata": {},
   "outputs": [
    {
     "name": "stdout",
     "output_type": "stream",
     "text": [
      "{0: {'title': '저탄소 GAP 고당도 아삭 복숭아 (4~6개입)', 'pic': 'https://img-cf.kurly.com/shop/data/goods/1500627673391l0.jpg', 'cost': '14,900원'}, 1: {'title': '국산 유기농 블루베리 500g (냉동)', 'pic': 'https://img-cf.kurly.com/shop/data/goods/1568771193951l0.jpg', 'cost': '15,000원'}, 2: {'title': '[스타벅스] 원두 6종', 'pic': 'https://img-cf.kurly.com/shop/data/goods/1586152628622l0.jpg', 'cost': '10,900원'}, 3: {'title': '[H’EATING] 제주 흑돈 크리스피 핫도그', 'pic': 'https://img-cf.kurly.com/shop/data/goods/1595406880206l0.jpg', 'cost': '8,000원'}, 4: {'title': '[H’EATING] 제주 흑돈 크리스피 모짜렐라 핫도그', 'pic': 'https://img-cf.kurly.com/shop/data/goods/1595407006286l0.jpg', 'cost': '8,300원'}, 5: {'title': '[에코버] 울세탁세제 제로 1L', 'pic': 'https://img-cf.kurly.com/shop/data/goods/1595387822390l0.jpg', 'cost': '12,960원'}, 6: {'title': '[세스크멘슬] 폴리쉬 부어스트', 'pic': 'https://img-cf.kurly.com/shop/data/goods/1595393299148l0.jpg', 'cost': '5,500원'}, 7: {'title': '[세스크멘슬] 할라피뇨 부어스트', 'pic': 'https://img-cf.kurly.com/shop/data/goods/1595394053284l0.jpg', 'cost': '5,500원'}, 8: {'title': '[세스크멘슬] 브랏 부어스트', 'pic': 'https://img-cf.kurly.com/shop/data/goods/1595384953520l0.jpg', 'cost': '7,500원'}, 9: {'title': '[세스크멘슬] 캐제크라이너', 'pic': 'https://img-cf.kurly.com/shop/data/goods/159538820512l0.jpg', 'cost': '12,500원'}, 10: {'title': '[세스크멘슬] 크라카우어 부어스트', 'pic': 'https://img-cf.kurly.com/shop/data/goods/15953925078l0.jpg', 'cost': '5,500원'}, 11: {'title': '[진로] 토닉워터 300ml', 'pic': 'https://img-cf.kurly.com/shop/data/goods/1595381281130l0.jpg', 'cost': '880원'}, 12: {'title': '[삼삼물산] 산지 직송 생물 눈볼대(금태) 300g(생물)', 'pic': 'https://img-cf.kurly.com/shop/data/goods/1595406768170l0.jpg', 'cost': '20,900원'}, 13: {'title': '[멜릭서] 비건 릴리프 페이셜 크림 80ml', 'pic': 'https://img-cf.kurly.com/shop/data/goods/1595394236647l0.jpg', 'cost': '48,000원 → 43,200원'}, 14: {'title': '[한둘] 뼈튼튼 칼슘 두부', 'pic': 'https://img-cf.kurly.com/shop/data/goods/1595403925173l0.jpg', 'cost': '2,800원'}, 15: {'title': '[미트클레버] 석쇠 간장불고기', 'pic': 'https://img-cf.kurly.com/shop/data/goods/1595404844842l0.jpg', 'cost': '9,800원'}, 16: {'title': '무농약 참송이 버섯 120g', 'pic': 'https://img-cf.kurly.com/shop/data/goods/1595383920825l0.jpg', 'cost': '6,000원'}, 17: {'title': '무농약 잎새 버섯 150g', 'pic': 'https://img-cf.kurly.com/shop/data/goods/1595384065116l0.jpg', 'cost': '6,000원'}, 18: {'title': '무농약 꽃송이 버섯 100g', 'pic': 'https://img-cf.kurly.com/shop/data/goods/159538418389l0.jpg', 'cost': '7,700원'}, 19: {'title': '[에코매스] 사탕수수 복사용지 (A4)', 'pic': 'https://img-cf.kurly.com/shop/data/goods/1595388025486l0.jpg', 'cost': '6,000원'}, 20: {'title': '[네이쳐패스] 러브크런치 애플 앤 치아', 'pic': 'https://img-cf.kurly.com/shop/data/goods/1594803244125l0.jpg', 'cost': '7,890원'}, 21: {'title': '[모던밀] 모던 든든 밥스틱 4종', 'pic': 'https://img-cf.kurly.com/shop/data/goods/1595407897280l0.jpg', 'cost': '4,900원'}, 22: {'title': '부드러운 미니 초코볼', 'pic': 'https://img-cf.kurly.com/shop/data/goods/1595382379967l0.jpg', 'cost': '2,700원 → 2,430원'}, 23: {'title': '[꼬손] 국산 참기름&들기름 180ml', 'pic': 'https://img-cf.kurly.com/shop/data/goods/1595385569398l0.jpg', 'cost': '12,500원 → 11,875원'}, 24: {'title': '유기농 복숭아 1.5kg', 'pic': 'https://img-cf.kurly.com/shop/data/goods/1595404804646l0.jpg', 'cost': '24,900원'}, 25: {'title': '무농약 복숭아 1.8kg', 'pic': 'https://img-cf.kurly.com/shop/data/goods/1595404537888l0.jpg', 'cost': '25,900원'}, 26: {'title': \"[깜짝특가] '햇'감자 2kg/봉\", 'pic': 'https://img-cf.kurly.com/shop/data/goods/159539437044l0.jpg', 'cost': '2,980원'}, 27: {'title': '[스키니피그] 스키니 칼로리 아이스크림 7종', 'pic': 'https://img-cf.kurly.com/shop/data/goods/1595325761276l0.jpg', 'cost': '7,900원 → 6,320원'}, 28: {'title': '[브레살렛] 모짜렐라 카우', 'pic': 'https://img-cf.kurly.com/shop/data/goods/1595313734373l0.jpg', 'cost': '4,400원 → 3,960원'}, 29: {'title': '[브레살렛] 모짜렐라 부팔라', 'pic': 'https://img-cf.kurly.com/shop/data/goods/1595313632895l0.jpg', 'cost': '6,800원 → 6,120원'}, 30: {'title': '[티시리즈] 가글정 (40정)', 'pic': 'https://img-cf.kurly.com/shop/data/goods/1595303989455l0.jpg', 'cost': '6,000원 → 5,100원'}, 31: {'title': '[광동] 마시는 경옥진 선물세트', 'pic': 'https://img-cf.kurly.com/shop/data/goods/1595321511615l0.jpg', 'cost': '27,500원 → 19,900원'}, 32: {'title': '[광동] 힘찬하루 헛개차 2종', 'pic': 'https://img-cf.kurly.com/shop/data/goods/1595319898890l0.jpg', 'cost': '990원'}, 33: {'title': '허니버터 아몬드 210g', 'pic': 'https://img-cf.kurly.com/shop/data/goods/1595311222678l0.jpg', 'cost': '7,500원 → 4,500원'}, 34: {'title': '와사비맛 아몬드 210g', 'pic': 'https://img-cf.kurly.com/shop/data/goods/1595312420416l0.jpg', 'cost': '7,500원 → 4,500원'}, 35: {'title': '군옥수수맛 아몬드 210g', 'pic': 'https://img-cf.kurly.com/shop/data/goods/1595313737300l0.jpg', 'cost': '7,500원 → 4,500원'}, 36: {'title': '김맛 아몬드 210g', 'pic': 'https://img-cf.kurly.com/shop/data/goods/1595313108740l0.jpg', 'cost': '7,500원 → 4,500원'}, 37: {'title': '카라멜 아몬드 앤 프레첼', 'pic': 'https://img-cf.kurly.com/shop/data/goods/1595314432467l0.jpg', 'cost': '7,500원 → 4,500원'}, 38: {'title': '불닭맛 아몬드 210g', 'pic': 'https://img-cf.kurly.com/shop/data/goods/1595315053862l0.jpg', 'cost': '7,500원 → 4,500원'}, 39: {'title': '인절미 아몬드 190g', 'pic': 'https://img-cf.kurly.com/shop/data/goods/1595315760283l0.jpg', 'cost': '7,500원 → 4,500원'}, 40: {'title': '티라미수맛 아몬드 190g', 'pic': 'https://img-cf.kurly.com/shop/data/goods/1595316473781l0.jpg', 'cost': '7,500원 → 4,500원'}, 41: {'title': '제주말차 아몬드 190g', 'pic': 'https://img-cf.kurly.com/shop/data/goods/1595317155236l0.jpg', 'cost': '7,500원 → 4,500원'}, 42: {'title': '[올프레쉬] 무농약 바나나 1입', 'pic': 'https://img-cf.kurly.com/shop/data/goods/159530528193l0.jpg', 'cost': '2,750원'}, 43: {'title': '[농부의 꽃] 노란 백합 5송이 이상', 'pic': 'https://img-cf.kurly.com/shop/data/goods/159420047029l0.jpg', 'cost': '15,900원 → 12,720원'}, 44: {'title': '[우주_산지항공직송] 제주 손질 생물갈치(특) 380g 내외', 'pic': 'https://img-cf.kurly.com/shop/data/goods/1595301039365l0.jpg', 'cost': '44,000원'}, 45: {'title': '[우주_산지항공직송] 제주 손질 생물갈치(대) 330g 내외', 'pic': 'https://img-cf.kurly.com/shop/data/goods/1595300874943l0.jpg', 'cost': '35,000원 → 31,500원'}, 46: {'title': '[도리깨침] 취나물볶음', 'pic': 'https://img-cf.kurly.com/shop/data/goods/1595311072750l0.jpg', 'cost': '4,600원'}, 47: {'title': '[도리깨침] 건곤드레나물', 'pic': 'https://img-cf.kurly.com/shop/data/goods/1595311196889l0.jpg', 'cost': '4,600원'}, 48: {'title': '[도리깨침] 건부지갱이나물', 'pic': 'https://img-cf.kurly.com/shop/data/goods/1595311280136l0.jpg', 'cost': '4,600원'}, 49: {'title': '[도리깨침] 건뽕잎나물', 'pic': 'https://img-cf.kurly.com/shop/data/goods/1595311366359l0.jpg', 'cost': '4,600원'}, 50: {'title': '[도리깨침] 건가지나물', 'pic': 'https://img-cf.kurly.com/shop/data/goods/1595311443563l0.jpg', 'cost': '4,600원'}, 51: {'title': '[도리깨침] 건취나물', 'pic': 'https://img-cf.kurly.com/shop/data/goods/1595306663248l0.jpg', 'cost': '4,600원'}, 52: {'title': '[도리깨침] 건호박나물', 'pic': 'https://img-cf.kurly.com/shop/data/goods/1595306933700l0.jpg', 'cost': '4,600원'}, 53: {'title': '[도리깨침] 무나물', 'pic': 'https://img-cf.kurly.com/shop/data/goods/1595307016539l0.jpg', 'cost': '4,600원'}, 54: {'title': '[도리깨침] 시래기나물', 'pic': 'https://img-cf.kurly.com/shop/data/goods/1595306846660l0.jpg', 'cost': '4,600원'}, 55: {'title': '[더벨로] 무화과 통밀빵', 'pic': 'https://img-cf.kurly.com/shop/data/goods/1595308958903l0.jpg', 'cost': '4,000원'}, 56: {'title': '[더벨로] 치즈 바게트', 'pic': 'https://img-cf.kurly.com/shop/data/goods/1595309619199l0.jpg', 'cost': '3,000원'}, 57: {'title': '[필립스] 고퓨어 차량용 공기청정기 GOPURE5212', 'pic': 'https://img-cf.kurly.com/shop/data/goods/1595297977845l0.jpg', 'cost': '79,000원'}, 58: {'title': '[필립스] 이지 스피드 유선 스팀 다리미 GC1740/20', 'pic': 'https://img-cf.kurly.com/shop/data/goods/1595386378129l0.jpg', 'cost': '49,000원'}, 59: {'title': '[비밥스] 치폴레 소스 2종', 'pic': 'https://img-cf.kurly.com/shop/data/goods/1595318628460l0.jpg', 'cost': '9,900원 → 9,405원'}, 60: {'title': '[복음자리] 짜먹는 과일잼 4종', 'pic': 'https://img-cf.kurly.com/shop/data/goods/1594359695957l0.jpg', 'cost': '1,980원'}, 61: {'title': '[마스터푸드] 민트젤리', 'pic': 'https://img-cf.kurly.com/shop/data/goods/big/201510/518_shop1_364553.jpg', 'cost': '5,720원'}, 62: {'title': '저탄소 GAP 스테비 황도 복숭아 2kg', 'pic': 'https://img-cf.kurly.com/shop/data/goods/1563267847207l0.jpg', 'cost': '17,800원'}, 63: {'title': '[화식한우] 1등급 이상 한우 양지 200g(냉장)', 'pic': 'https://img-cf.kurly.com/shop/data/goods/1595223976824l0.jpg', 'cost': '17,500원'}, 64: {'title': '[화식한우] 1등급 이상 한우 채끝 스테이크용 300g', 'pic': 'https://img-cf.kurly.com/shop/data/goods/1595221500159l0.jpg', 'cost': '48,000원 → 43,200원'}, 65: {'title': '[화식한우] 1등급 이상 한우 사태 200g(냉장)', 'pic': 'https://img-cf.kurly.com/shop/data/goods/1595226003532l0.jpg', 'cost': '12,000원 → 11,400원'}, 66: {'title': '[화식한우] 1등급 이상 한우 양지 세절육 200g(냉장)', 'pic': 'https://img-cf.kurly.com/shop/data/goods/1595223859311l0.jpg', 'cost': '17,500원 → 15,750원'}, 67: {'title': '[화식한우] 1등급 이상 한우 부채살 칼집 200g(냉장)', 'pic': 'https://img-cf.kurly.com/shop/data/goods/159522052565l0.jpg', 'cost': '25,000원 → 23,750원'}, 68: {'title': '[씨투게더] 미역귀 장아찌', 'pic': 'https://img-cf.kurly.com/shop/data/goods/1595229120560l0.jpg', 'cost': '5,900원'}, 69: {'title': '[씨투게더] 미역줄기 장아찌', 'pic': 'https://img-cf.kurly.com/shop/data/goods/1595229330157l0.jpg', 'cost': '5,900원'}, 70: {'title': '[씨투게더] 다시마 장아찌', 'pic': 'https://img-cf.kurly.com/shop/data/goods/1595229228645l0.jpg', 'cost': '5,900원'}, 71: {'title': '[씨투게더] 곰피미역 장아찌', 'pic': 'https://img-cf.kurly.com/shop/data/goods/1595229431995l0.jpg', 'cost': '5,900원'}, 72: {'title': '[그리다꿈] 리얼 딸기라떼 2종', 'pic': 'https://img-cf.kurly.com/shop/data/goods/1594976515624l0.jpg', 'cost': '4,900원'}, 73: {'title': '[그리다꿈] 리얼 바나나라떼 2종', 'pic': 'https://img-cf.kurly.com/shop/data/goods/1594977796555l0.jpg', 'cost': '4,500원'}, 74: {'title': '[그리다꿈] 리얼 딸기베이스', 'pic': 'https://img-cf.kurly.com/shop/data/goods/1594979314853l0.jpg', 'cost': '7,500원'}, 75: {'title': '[화식한우] 1등급 이상 한우 등심 구이용 200g(냉장)', 'pic': 'https://img-cf.kurly.com/shop/data/goods/159522614711l0.jpg', 'cost': '29,000원 → 26,100원'}, 76: {'title': '[화식한우] 1등급 이상 한우 꽃등심 구이용 200g(냉장)', 'pic': 'https://img-cf.kurly.com/shop/data/goods/1595226312755l0.jpg', 'cost': '30,000원'}, 77: {'title': '[경주축협] 경주천년한우 1++등급 등심 200g', 'pic': 'https://img-cf.kurly.com/shop/data/goods/1595223527868l0.jpg', 'cost': '37,500원'}, 78: {'title': '[경주축협] 경주천년한우 1++등급 안심 200g', 'pic': 'https://img-cf.kurly.com/shop/data/goods/159522456174l0.jpg', 'cost': '41,900원'}, 79: {'title': '[경주축협] 경주천년한우 1++등급 채끝 200g', 'pic': 'https://img-cf.kurly.com/shop/data/goods/1595225520259l0.jpg', 'cost': '39,300원'}, 80: {'title': '[경주축협] 경주천년한우 1++등급 업진살 200g', 'pic': 'https://img-cf.kurly.com/shop/data/goods/1595231005127l0.jpg', 'cost': '35,000원'}, 81: {'title': '[경주축협] 경주천년한우 1++등급 부채살 200g', 'pic': 'https://img-cf.kurly.com/shop/data/goods/1595230009167l0.jpg', 'cost': '36,800원'}, 82: {'title': '[고려은단] 수면비법', 'pic': 'https://img-cf.kurly.com/shop/data/goods/1595211997173l0.jpg', 'cost': '79,900원 → 75,905원'}, 83: {'title': '[리듀어] 리프레싱 타임 클렌징 워터', 'pic': 'https://img-cf.kurly.com/shop/data/goods/1595219057813l0.jpg', 'cost': '12,600원 → 10,710원'}, 84: {'title': '[다슈] 컬러 패스트 체인지 염색약(흑갈색/새치전용)', 'pic': 'https://img-cf.kurly.com/shop/data/goods/1595237693282l0.jpg', 'cost': '10,900원 → 9,810원'}, 85: {'title': '[다슈] 컬러 패스트 체인지 염색약(흑색/새치전용)', 'pic': 'https://img-cf.kurly.com/shop/data/goods/1595240720449l0.jpg', 'cost': '10,900원 → 9,810원'}, 86: {'title': '[양각도] 평양냉면 (2인분)', 'pic': 'https://img-cf.kurly.com/shop/data/goods/159497177478l0.jpg', 'cost': '11,000원'}, 87: {'title': '저탄소 GAP 후무사 자두 750g', 'pic': 'https://img-cf.kurly.com/shop/data/goods/1594959944381l0.jpg', 'cost': '8,500원 → 7,650원'}, 88: {'title': '[파세코] 2020년형 창문형 에어컨 PWA-3200W', 'pic': 'https://img-cf.kurly.com/shop/data/goods/1595228634619l0.jpg', 'cost': '719,000원'}, 89: {'title': '[농부의 꽃] 가시 있는 오렌지골드 장미 7대', 'pic': 'https://img-cf.kurly.com/shop/data/goods/159523209930l0.jpg', 'cost': '15,900원'}, 90: {'title': '[농부의 꽃] 가시 있는 크림하트 장미 7대', 'pic': 'https://img-cf.kurly.com/shop/data/goods/1595222926561l0.jpg', 'cost': '15,900원'}, 91: {'title': '[농부의 꽃] 가시 있는 피타하야 장미 7송이', 'pic': 'https://img-cf.kurly.com/shop/data/goods/1595231682641l0.jpg', 'cost': '15,900원'}, 92: {'title': '[농부의 꽃] 가시 있는 나르샤 장미 7대', 'pic': 'https://img-cf.kurly.com/shop/data/goods/1595229417186l0.jpg', 'cost': '15,900원'}, 93: {'title': 'GAP 모동 캠벨포도 1박스(1kg)', 'pic': 'https://img-cf.kurly.com/shop/data/goods/1593751693106l0.jpg', 'cost': '16,000원 → 14,400원'}, 94: {'title': 'GAP 아오리 사과 한봉지 1kg', 'pic': 'https://img-cf.kurly.com/shop/data/goods/159531571137l0.jpg', 'cost': '6,500원'}, 95: {'title': '[푸룰라] 유기농 과일 퓨레 3종', 'pic': 'https://img-cf.kurly.com/shop/data/goods/1594362933611l0.jpg', 'cost': '2,900원'}, 96: {'title': '[노던골드] 퀵오트밀', 'pic': 'https://img-cf.kurly.com/shop/data/goods/1594963163743l0.jpg', 'cost': '4,980원'}, 97: {'title': '[온기원] 칼칼한 전통 육개장', 'pic': 'https://img-cf.kurly.com/shop/data/goods/1594962999966l0.jpg', 'cost': '5,900원 → 5,605원'}, 98: {'title': '[마이셰프] 감바스알아히요 & 바게트', 'pic': 'https://img-cf.kurly.com/shop/data/goods/15949631379l0.jpg', 'cost': '19,800원'}}\n"
     ]
    }
   ],
   "source": [
    "dict1 = {}\n",
    "\n",
    "for i in range(len(imgs)):\n",
    "    target_info = {}\n",
    "    overlays2 = \".info > .name\"\n",
    "    item_titles = driver.find_elements_by_css_selector(overlays2)\n",
    "    title = item_titles[i].text\n",
    "    target_info['title'] = title\n",
    "\n",
    "    overlays1 = '.img > img'\n",
    "    imgs = driver.find_elements_by_css_selector(overlays1)\n",
    "    pic = imgs[i].get_attribute('src')\n",
    "    target_info['pic'] = pic\n",
    "\n",
    "    overlays3 = \".info > .cost\"\n",
    "    costs = driver.find_elements_by_css_selector(overlays3)\n",
    "    cost = costs[i].text\n",
    "    target_info['cost'] = cost\n",
    "\n",
    "    dict1[i] = target_info            # 토탈 딕셔너리로 만들기\n",
    "\n",
    "print(dict1)"
   ]
  },
  {
   "cell_type": "code",
   "execution_count": 10,
   "metadata": {},
   "outputs": [
    {
     "name": "stdout",
     "output_type": "stream",
     "text": [
      "{0: {'title': '[스키니피그] 스키니 칼로리 아이스크림 6종', 'pic': 'https://img-cf.kurly.com/shop/data/goods/1595325761276l0.jpg', 'cost': '7,900원'}, 1: {'title': '[복음자리] 바로 발라먹는 마늘버터 스프레드', 'pic': 'https://img-cf.kurly.com/shop/data/goods/1594360386572l0.jpg', 'cost': '1,980원'}, 2: {'title': '[브레살렛] 모짜렐라 카우', 'pic': 'https://img-cf.kurly.com/shop/data/goods/1595313734373l0.jpg', 'cost': '4,400원 → 3,960원'}, 3: {'title': '[브레살렛] 모짜렐라 부팔라', 'pic': 'https://img-cf.kurly.com/shop/data/goods/1595313632895l0.jpg', 'cost': '6,800원 → 6,120원'}, 4: {'title': '[티시리즈] 가글정 (40정)', 'pic': 'https://img-cf.kurly.com/shop/data/goods/1595303989455l0.jpg', 'cost': '6,000원 → 5,100원'}, 5: {'title': '[광동] 마시는 경옥진 선물세트', 'pic': 'https://img-cf.kurly.com/shop/data/goods/1595321511615l0.jpg', 'cost': '27,500원 → 19,900원'}, 6: {'title': '[광동] 힘찬하루 헛개차 2종', 'pic': 'https://img-cf.kurly.com/shop/data/goods/1595319898890l0.jpg', 'cost': '990원'}, 7: {'title': '허니버터 아몬드 210g', 'pic': 'https://img-cf.kurly.com/shop/data/goods/1595311222678l0.jpg', 'cost': '7,500원'}, 8: {'title': '와사비맛 아몬드 210g', 'pic': 'https://img-cf.kurly.com/shop/data/goods/1595312420416l0.jpg', 'cost': '7,500원'}, 9: {'title': '군옥수수맛 아몬드 210g', 'pic': 'https://img-cf.kurly.com/shop/data/goods/1595313737300l0.jpg', 'cost': '7,500원'}, 10: {'title': '김맛 아몬드 210g', 'pic': 'https://img-cf.kurly.com/shop/data/goods/1595313108740l0.jpg', 'cost': '7,500원'}, 11: {'title': '카라멜 아몬드 앤 프레첼', 'pic': 'https://img-cf.kurly.com/shop/data/goods/1595314432467l0.jpg', 'cost': '7,500원'}, 12: {'title': '불닭맛 아몬드 210g', 'pic': 'https://img-cf.kurly.com/shop/data/goods/1595315053862l0.jpg', 'cost': '7,500원'}, 13: {'title': '인절미 아몬드 190g', 'pic': 'https://img-cf.kurly.com/shop/data/goods/1595315760283l0.jpg', 'cost': '7,500원'}, 14: {'title': '티라미수맛 아몬드 190g', 'pic': 'https://img-cf.kurly.com/shop/data/goods/1595316473781l0.jpg', 'cost': '7,500원'}, 15: {'title': '제주말차 아몬드 190g', 'pic': 'https://img-cf.kurly.com/shop/data/goods/1595317155236l0.jpg', 'cost': '7,500원'}, 16: {'title': '[올프레쉬] 무농약 바나나 1입', 'pic': 'https://img-cf.kurly.com/shop/data/goods/159530528193l0.jpg', 'cost': '2,750원'}, 17: {'title': '[농부의 꽃] 노란 백합 5송이 이상', 'pic': 'https://img-cf.kurly.com/shop/data/goods/159420047029l0.jpg', 'cost': '15,900원'}, 18: {'title': '[우주_산지항공직송] 제주 손질 생물갈치(특) 380g 내외', 'pic': 'https://img-cf.kurly.com/shop/data/goods/1595301039365l0.jpg', 'cost': '44,000원'}, 19: {'title': '[우주_산지항공직송] 제주 손질 생물갈치(대) 330g 내외', 'pic': 'https://img-cf.kurly.com/shop/data/goods/1595300874943l0.jpg', 'cost': '35,000원'}, 20: {'title': '[도리깨침] 취나물볶음', 'pic': 'https://img-cf.kurly.com/shop/data/goods/1595311072750l0.jpg', 'cost': '4,600원'}, 21: {'title': '[도리깨침] 건곤드레나물', 'pic': 'https://img-cf.kurly.com/shop/data/goods/1595311196889l0.jpg', 'cost': '4,600원'}, 22: {'title': '[도리깨침] 건부지갱이나물', 'pic': 'https://img-cf.kurly.com/shop/data/goods/1595311280136l0.jpg', 'cost': '4,600원'}, 23: {'title': '[도리깨침] 건뽕잎나물', 'pic': 'https://img-cf.kurly.com/shop/data/goods/1595311366359l0.jpg', 'cost': '4,600원'}, 24: {'title': '[도리깨침] 건가지나물', 'pic': 'https://img-cf.kurly.com/shop/data/goods/1595311443563l0.jpg', 'cost': '4,600원'}, 25: {'title': '[도리깨침] 건취나물', 'pic': 'https://img-cf.kurly.com/shop/data/goods/1595306663248l0.jpg', 'cost': '4,600원'}, 26: {'title': '[도리깨침] 건호박나물', 'pic': 'https://img-cf.kurly.com/shop/data/goods/1595306933700l0.jpg', 'cost': '4,600원'}, 27: {'title': '[도리깨침] 무나물', 'pic': 'https://img-cf.kurly.com/shop/data/goods/1595307016539l0.jpg', 'cost': '4,600원'}, 28: {'title': '[도리깨침] 시래기나물', 'pic': 'https://img-cf.kurly.com/shop/data/goods/1595306846660l0.jpg', 'cost': '4,600원'}, 29: {'title': '[더벨로] 무화과 통밀빵', 'pic': 'https://img-cf.kurly.com/shop/data/goods/1595308958903l0.jpg', 'cost': '4,000원'}, 30: {'title': '[더벨로] 치즈 바게트', 'pic': 'https://img-cf.kurly.com/shop/data/goods/1595309619199l0.jpg', 'cost': '3,000원'}, 31: {'title': '[필립스] 고퓨어 차량용 공기청정기 GOPURE5212', 'pic': 'https://img-cf.kurly.com/shop/data/goods/1595297977845l0.jpg', 'cost': '79,000원'}, 32: {'title': '[필립스] 이지 스피드 유선 스팀 다리미 GC1740/20', 'pic': 'https://img-cf.kurly.com/shop/data/goods/1595386378129l0.jpg', 'cost': '49,000원'}, 33: {'title': '[비밥스] 치폴레 소스 2종', 'pic': 'https://img-cf.kurly.com/shop/data/goods/1595318628460l0.jpg', 'cost': '9,900원 → 9,405원'}, 34: {'title': '[복음자리] 짜먹는 과일잼 4종', 'pic': 'https://img-cf.kurly.com/shop/data/goods/1594359695957l0.jpg', 'cost': '1,980원'}, 35: {'title': '[마스터푸드] 민트젤리', 'pic': 'https://img-cf.kurly.com/shop/data/goods/big/201510/518_shop1_364553.jpg', 'cost': '5,720원'}, 36: {'title': '저탄소 GAP 스테비 황도 복숭아 2kg', 'pic': 'https://img-cf.kurly.com/shop/data/goods/1563267847207l0.jpg', 'cost': '17,800원'}, 37: {'title': '[화식한우] 1등급 이상 한우 양지 200g(냉장)', 'pic': 'https://img-cf.kurly.com/shop/data/goods/1595223976824l0.jpg', 'cost': '17,500원'}, 38: {'title': '[화식한우] 1등급 이상 한우 불고기 200g(냉장)', 'pic': 'https://img-cf.kurly.com/shop/data/goods/1595224646275l0.jpg', 'cost': '12,500원'}, 39: {'title': '[화식한우] 1등급 이상 한우 채끝 스테이크용 300g', 'pic': 'https://img-cf.kurly.com/shop/data/goods/1595221500159l0.jpg', 'cost': '48,000원'}, 40: {'title': '[화식한우] 1등급 이상 한우 안심 200g(냉장)', 'pic': 'https://img-cf.kurly.com/shop/data/goods/1595224089103l0.jpg', 'cost': '39,900원'}, 41: {'title': '[화식한우] 1등급 이상 한우 사태 200g(냉장)', 'pic': 'https://img-cf.kurly.com/shop/data/goods/1595226003532l0.jpg', 'cost': '12,000원'}, 42: {'title': '[화식한우] 1등급 이상 한우 양지 세절육 200g(냉장)', 'pic': 'https://img-cf.kurly.com/shop/data/goods/1595223859311l0.jpg', 'cost': '17,500원'}, 43: {'title': '[화식한우] 1등급 이상 한우 부채살 칼집 200g(냉장)', 'pic': 'https://img-cf.kurly.com/shop/data/goods/159522052565l0.jpg', 'cost': '25,000원'}, 44: {'title': '[씨투게더] 미역귀 장아찌', 'pic': 'https://img-cf.kurly.com/shop/data/goods/1595229120560l0.jpg', 'cost': '5,900원'}, 45: {'title': '[씨투게더] 미역줄기 장아찌', 'pic': 'https://img-cf.kurly.com/shop/data/goods/1595229330157l0.jpg', 'cost': '5,900원'}, 46: {'title': '[바븐] 깨끗하게 손질된 제주 황돔 300g 내외(생물)', 'pic': 'https://img-cf.kurly.com/shop/data/goods/1594966030737l0.jpg', 'cost': '11,000원'}, 47: {'title': '[씨투게더] 다시마 장아찌', 'pic': 'https://img-cf.kurly.com/shop/data/goods/1595229228645l0.jpg', 'cost': '5,900원'}, 48: {'title': '[씨투게더] 곰피미역 장아찌', 'pic': 'https://img-cf.kurly.com/shop/data/goods/1595229431995l0.jpg', 'cost': '5,900원'}, 49: {'title': '[그리다꿈] 리얼 딸기라떼 2종', 'pic': 'https://img-cf.kurly.com/shop/data/goods/1594976515624l0.jpg', 'cost': '4,900원'}, 50: {'title': '[그리다꿈] 리얼 바나나라떼 2종', 'pic': 'https://img-cf.kurly.com/shop/data/goods/1594977796555l0.jpg', 'cost': '4,500원'}, 51: {'title': '[그리다꿈] 리얼 딸기베이스', 'pic': 'https://img-cf.kurly.com/shop/data/goods/1594979314853l0.jpg', 'cost': '7,500원'}, 52: {'title': '[화식한우] 1등급 이상 한우 등심 구이용 200g(냉장)', 'pic': 'https://img-cf.kurly.com/shop/data/goods/159522614711l0.jpg', 'cost': '29,000원'}, 53: {'title': '[화식한우] 1등급 이상 한우 꽃등심 구이용 200g(냉장)', 'pic': 'https://img-cf.kurly.com/shop/data/goods/1595226312755l0.jpg', 'cost': '30,000원'}, 54: {'title': '[경주축협] 경주천년한우 1++등급 등심 200g', 'pic': 'https://img-cf.kurly.com/shop/data/goods/1595223527868l0.jpg', 'cost': '37,500원'}, 55: {'title': '[경주축협] 경주천년한우 1++등급 안심 200g', 'pic': 'https://img-cf.kurly.com/shop/data/goods/159522456174l0.jpg', 'cost': '41,900원'}, 56: {'title': '[경주축협] 경주천년한우 1++등급 채끝 200g', 'pic': 'https://img-cf.kurly.com/shop/data/goods/1595225520259l0.jpg', 'cost': '39,300원'}, 57: {'title': '[경주축협] 경주천년한우 1++등급 갈비살 200g', 'pic': 'https://img-cf.kurly.com/shop/data/goods/1595227165529l0.jpg', 'cost': '39,800원'}, 58: {'title': '[경주축협] 경주천년한우 1++등급 업진살 200g', 'pic': 'https://img-cf.kurly.com/shop/data/goods/1595231005127l0.jpg', 'cost': '35,000원'}, 59: {'title': '[경주축협] 경주천년한우 1++등급 치마살 200g', 'pic': 'https://img-cf.kurly.com/shop/data/goods/1595229288408l0.jpg', 'cost': '45,600원'}, 60: {'title': '[경주축협] 경주천년한우 1++등급 부채살 200g', 'pic': 'https://img-cf.kurly.com/shop/data/goods/1595230009167l0.jpg', 'cost': '36,800원'}, 61: {'title': '[고려은단] 수면비법', 'pic': 'https://img-cf.kurly.com/shop/data/goods/1595211997173l0.jpg', 'cost': '79,900원 → 75,905원'}, 62: {'title': '[센터커피] 쑥 라떼 (Mugwort Latte)', 'pic': 'https://img-cf.kurly.com/shop/data/goods/1595218861225l0.jpg', 'cost': '5,500원 → 5,335원'}, 63: {'title': '[리듀어] 리프레싱 타임 클렌징 워터', 'pic': 'https://img-cf.kurly.com/shop/data/goods/1595219057813l0.jpg', 'cost': '12,600원 → 10,710원'}, 64: {'title': '[다슈] 컬러 패스트 체인지 염색약(흑갈색/새치전용)', 'pic': 'https://img-cf.kurly.com/shop/data/goods/1595237693282l0.jpg', 'cost': '10,900원 → 9,810원'}, 65: {'title': '[다슈] 컬러 패스트 체인지 염색약(흑색/새치전용)', 'pic': 'https://img-cf.kurly.com/shop/data/goods/1595240720449l0.jpg', 'cost': '10,900원 → 9,810원'}, 66: {'title': '[양각도] 평양냉면 (2인분)', 'pic': 'https://img-cf.kurly.com/shop/data/goods/159497177478l0.jpg', 'cost': '11,000원'}, 67: {'title': '저탄소 GAP 후무사 자두 750g', 'pic': 'https://img-cf.kurly.com/shop/data/goods/1594959944381l0.jpg', 'cost': '8,500원 → 7,650원'}, 68: {'title': '[파세코] 2020년형 창문형 에어컨 PWA-3200W', 'pic': 'https://img-cf.kurly.com/shop/data/goods/1595228634619l0.jpg', 'cost': '719,000원'}, 69: {'title': '[농부의 꽃] 가시 있는 오렌지골드 장미 7대', 'pic': 'https://img-cf.kurly.com/shop/data/goods/159523209930l0.jpg', 'cost': '15,900원'}, 70: {'title': '[농부의 꽃] 가시 있는 크림하트 장미 7대', 'pic': 'https://img-cf.kurly.com/shop/data/goods/1595222926561l0.jpg', 'cost': '15,900원'}, 71: {'title': '[농부의 꽃] 가시 있는 피타하야 장미 7송이', 'pic': 'https://img-cf.kurly.com/shop/data/goods/1595231682641l0.jpg', 'cost': '15,900원'}, 72: {'title': '[농부의 꽃] 가시 있는 나르샤 장미 7대', 'pic': 'https://img-cf.kurly.com/shop/data/goods/1595229417186l0.jpg', 'cost': '15,900원'}, 73: {'title': 'GAP 모동 캠벨포도 1박스(1kg)', 'pic': 'https://img-cf.kurly.com/shop/data/goods/1593751693106l0.jpg', 'cost': '16,000원'}, 74: {'title': '[네이쳐패스] 초코침스', 'pic': 'https://img-cf.kurly.com/shop/data/goods/1594365838504l0.jpg', 'cost': '6,980원 → 6,282원'}, 75: {'title': 'GAP 아오리 사과 한봉지 1kg', 'pic': 'https://img-cf.kurly.com/shop/data/goods/159531571137l0.jpg', 'cost': '5,950원'}, 76: {'title': '[푸룰라] 유기농 과일 퓨레 3종', 'pic': 'https://img-cf.kurly.com/shop/data/goods/1594362933611l0.jpg', 'cost': '2,900원'}, 77: {'title': '[노던골드] 퀵오트밀', 'pic': 'https://img-cf.kurly.com/shop/data/goods/1594963163743l0.jpg', 'cost': '4,980원'}, 78: {'title': '[온기원] 칼칼한 전통 육개장', 'pic': 'https://img-cf.kurly.com/shop/data/goods/1594962999966l0.jpg', 'cost': '5,900원 → 5,605원'}, 79: {'title': '[마이셰프] 감바스알아히요 & 바게트', 'pic': 'https://img-cf.kurly.com/shop/data/goods/15949631379l0.jpg', 'cost': '19,800원'}, 80: {'title': '[법성포참맛] 대용량 영광굴비 1.8kg(20마리)(냉동)', 'pic': 'https://img-cf.kurly.com/shop/data/goods/159496590984l0.jpg', 'cost': '89,000원 → 62,300원'}, 81: {'title': '[데본] 더블 크림 170g', 'pic': 'https://img-cf.kurly.com/shop/data/goods/1594962354523l0.jpg', 'cost': '8,900원'}, 82: {'title': '[마이셰프] 소고기고추잡채 & 꽃빵', 'pic': 'https://img-cf.kurly.com/shop/data/goods/1594963283715l0.jpg', 'cost': '18,900원'}, 83: {'title': '[알바니즈] 알바니즈 멀티팩 700g(50입)', 'pic': 'https://img-cf.kurly.com/shop/data/goods/1594963971763l0.jpg', 'cost': '14,880원'}, 84: {'title': '[신사동백반] 경상도식 칼칼고추비빔장', 'pic': 'https://img-cf.kurly.com/shop/data/goods/159497053264l0.jpg', 'cost': '4,900원'}, 85: {'title': '[테이스티반점] 유니짜장 곱빼기', 'pic': 'https://img-cf.kurly.com/shop/data/goods/1594971742462l0.jpg', 'cost': '6,900원'}, 86: {'title': '[창억] 구름떡 2종', 'pic': 'https://img-cf.kurly.com/shop/data/goods/1594974507961l0.jpg', 'cost': '9,000원'}, 87: {'title': '[창억] 기정떡 3종', 'pic': 'https://img-cf.kurly.com/shop/data/goods/1594973603319l0.jpg', 'cost': '5,400원'}, 88: {'title': '[마이셰프] 장어 한 마리 덮밥', 'pic': 'https://img-cf.kurly.com/shop/data/goods/1594967292912l0.jpg', 'cost': '11,900원'}, 89: {'title': '[마이셰프] 군산식 일품 아귀찜', 'pic': 'https://img-cf.kurly.com/shop/data/goods/1594969412344l0.jpg', 'cost': '15,900원'}, 90: {'title': '[마이셰프] 명품 알찜', 'pic': 'https://img-cf.kurly.com/shop/data/goods/1594968584106l0.jpg', 'cost': '18,900원'}, 91: {'title': '[3M] 일회용 원데이 그린수세미 3종', 'pic': 'https://img-cf.kurly.com/shop/data/goods/1594911545761l0.jpg', 'cost': '6,200원 → 5,580원'}, 92: {'title': '[석관동 떡볶이] 오리지널 떡볶이', 'pic': 'https://img-cf.kurly.com/shop/data/goods/1594968820799l0.jpg', 'cost': '5,000원'}, 93: {'title': '[석관동 떡볶이] 기름 떡볶이', 'pic': 'https://img-cf.kurly.com/shop/data/goods/1594969073120l0.jpg', 'cost': '4,500원'}, 94: {'title': '[석관동 떡볶이] 생마늘듬뿍 떡볶이', 'pic': 'https://img-cf.kurly.com/shop/data/goods/1594968938199l0.jpg', 'cost': '5,500원'}, 95: {'title': '[석관동 떡볶이] 석관동 모듬튀김', 'pic': 'https://img-cf.kurly.com/shop/data/goods/1594969238964l0.jpg', 'cost': '2,900원'}, 96: {'title': '[아파트32] 삼베수세미 1P', 'pic': 'https://img-cf.kurly.com/shop/data/goods/1594888850682l0.jpg', 'cost': '3,500원'}, 97: {'title': '스카이라래 체리 300g', 'pic': 'https://img-cf.kurly.com/shop/data/goods/1593100212452l0.jpg', 'cost': '13,900원 → 11,815원'}, 98: {'title': '[블랙앤데커] 초고속 진공블렌더', 'pic': 'https://img-cf.kurly.com/shop/data/goods/1594953498243l0.jpg', 'cost': '379,000원'}}\n"
     ]
    }
   ],
   "source": [
    "print(dict1)"
   ]
  },
  {
   "cell_type": "code",
   "execution_count": 11,
   "metadata": {},
   "outputs": [
    {
     "data": {
      "text/html": [
       "<div>\n",
       "<style scoped>\n",
       "    .dataframe tbody tr th:only-of-type {\n",
       "        vertical-align: middle;\n",
       "    }\n",
       "\n",
       "    .dataframe tbody tr th {\n",
       "        vertical-align: top;\n",
       "    }\n",
       "\n",
       "    .dataframe thead th {\n",
       "        text-align: right;\n",
       "    }\n",
       "</style>\n",
       "<table border=\"1\" class=\"dataframe\">\n",
       "  <thead>\n",
       "    <tr style=\"text-align: right;\">\n",
       "      <th></th>\n",
       "      <th>title</th>\n",
       "      <th>pic</th>\n",
       "      <th>cost</th>\n",
       "    </tr>\n",
       "  </thead>\n",
       "  <tbody>\n",
       "    <tr>\n",
       "      <th>0</th>\n",
       "      <td>[스키니피그] 스키니 칼로리 아이스크림 6종</td>\n",
       "      <td>https://img-cf.kurly.com/shop/data/goods/15953...</td>\n",
       "      <td>7,900원</td>\n",
       "    </tr>\n",
       "    <tr>\n",
       "      <th>1</th>\n",
       "      <td>[복음자리] 바로 발라먹는 마늘버터 스프레드</td>\n",
       "      <td>https://img-cf.kurly.com/shop/data/goods/15943...</td>\n",
       "      <td>1,980원</td>\n",
       "    </tr>\n",
       "    <tr>\n",
       "      <th>2</th>\n",
       "      <td>[브레살렛] 모짜렐라 카우</td>\n",
       "      <td>https://img-cf.kurly.com/shop/data/goods/15953...</td>\n",
       "      <td>4,400원 → 3,960원</td>\n",
       "    </tr>\n",
       "    <tr>\n",
       "      <th>3</th>\n",
       "      <td>[브레살렛] 모짜렐라 부팔라</td>\n",
       "      <td>https://img-cf.kurly.com/shop/data/goods/15953...</td>\n",
       "      <td>6,800원 → 6,120원</td>\n",
       "    </tr>\n",
       "    <tr>\n",
       "      <th>4</th>\n",
       "      <td>[티시리즈] 가글정 (40정)</td>\n",
       "      <td>https://img-cf.kurly.com/shop/data/goods/15953...</td>\n",
       "      <td>6,000원 → 5,100원</td>\n",
       "    </tr>\n",
       "    <tr>\n",
       "      <th>...</th>\n",
       "      <td>...</td>\n",
       "      <td>...</td>\n",
       "      <td>...</td>\n",
       "    </tr>\n",
       "    <tr>\n",
       "      <th>94</th>\n",
       "      <td>[석관동 떡볶이] 생마늘듬뿍 떡볶이</td>\n",
       "      <td>https://img-cf.kurly.com/shop/data/goods/15949...</td>\n",
       "      <td>5,500원</td>\n",
       "    </tr>\n",
       "    <tr>\n",
       "      <th>95</th>\n",
       "      <td>[석관동 떡볶이] 석관동 모듬튀김</td>\n",
       "      <td>https://img-cf.kurly.com/shop/data/goods/15949...</td>\n",
       "      <td>2,900원</td>\n",
       "    </tr>\n",
       "    <tr>\n",
       "      <th>96</th>\n",
       "      <td>[아파트32] 삼베수세미 1P</td>\n",
       "      <td>https://img-cf.kurly.com/shop/data/goods/15948...</td>\n",
       "      <td>3,500원</td>\n",
       "    </tr>\n",
       "    <tr>\n",
       "      <th>97</th>\n",
       "      <td>스카이라래 체리 300g</td>\n",
       "      <td>https://img-cf.kurly.com/shop/data/goods/15931...</td>\n",
       "      <td>13,900원 → 11,815원</td>\n",
       "    </tr>\n",
       "    <tr>\n",
       "      <th>98</th>\n",
       "      <td>[블랙앤데커] 초고속 진공블렌더</td>\n",
       "      <td>https://img-cf.kurly.com/shop/data/goods/15949...</td>\n",
       "      <td>379,000원</td>\n",
       "    </tr>\n",
       "  </tbody>\n",
       "</table>\n",
       "<p>99 rows × 3 columns</p>\n",
       "</div>"
      ],
      "text/plain": [
       "                       title  \\\n",
       "0   [스키니피그] 스키니 칼로리 아이스크림 6종   \n",
       "1   [복음자리] 바로 발라먹는 마늘버터 스프레드   \n",
       "2             [브레살렛] 모짜렐라 카우   \n",
       "3            [브레살렛] 모짜렐라 부팔라   \n",
       "4           [티시리즈] 가글정 (40정)   \n",
       "..                       ...   \n",
       "94       [석관동 떡볶이] 생마늘듬뿍 떡볶이   \n",
       "95        [석관동 떡볶이] 석관동 모듬튀김   \n",
       "96          [아파트32] 삼베수세미 1P   \n",
       "97             스카이라래 체리 300g   \n",
       "98         [블랙앤데커] 초고속 진공블렌더   \n",
       "\n",
       "                                                  pic               cost  \n",
       "0   https://img-cf.kurly.com/shop/data/goods/15953...             7,900원  \n",
       "1   https://img-cf.kurly.com/shop/data/goods/15943...             1,980원  \n",
       "2   https://img-cf.kurly.com/shop/data/goods/15953...    4,400원 → 3,960원  \n",
       "3   https://img-cf.kurly.com/shop/data/goods/15953...    6,800원 → 6,120원  \n",
       "4   https://img-cf.kurly.com/shop/data/goods/15953...    6,000원 → 5,100원  \n",
       "..                                                ...                ...  \n",
       "94  https://img-cf.kurly.com/shop/data/goods/15949...             5,500원  \n",
       "95  https://img-cf.kurly.com/shop/data/goods/15949...             2,900원  \n",
       "96  https://img-cf.kurly.com/shop/data/goods/15948...             3,500원  \n",
       "97  https://img-cf.kurly.com/shop/data/goods/15931...  13,900원 → 11,815원  \n",
       "98  https://img-cf.kurly.com/shop/data/goods/15949...           379,000원  \n",
       "\n",
       "[99 rows x 3 columns]"
      ]
     },
     "execution_count": 11,
     "metadata": {},
     "output_type": "execute_result"
    }
   ],
   "source": [
    "result_df = pd.DataFrame.from_dict(dict1, 'index')\n",
    "result_df"
   ]
  },
  {
   "cell_type": "code",
   "execution_count": 12,
   "metadata": {
    "scrolled": true
   },
   "outputs": [],
   "source": [
    "n = result_df['pic'].count()\n",
    "result_df.to_csv(\"data/kurly({}).csv\".format('컬리'), encoding='euc-kr')"
   ]
  },
  {
   "cell_type": "code",
   "execution_count": 27,
   "metadata": {},
   "outputs": [],
   "source": [
    "# url = items.get_attribute('href')\n",
    "# url"
   ]
  },
  {
   "cell_type": "code",
   "execution_count": 28,
   "metadata": {},
   "outputs": [
    {
     "data": {
      "text/plain": [
       "99"
      ]
     },
     "execution_count": 28,
     "metadata": {},
     "output_type": "execute_result"
    }
   ],
   "source": [
    "num_pic = len(result_df['pic'])\n",
    "num_pic"
   ]
  },
  {
   "cell_type": "code",
   "execution_count": 30,
   "metadata": {},
   "outputs": [],
   "source": [
    "# 이미지들 image 폴더에 다운받기\n",
    "import urllib.request\n",
    "\n",
    "for i in range(0, 50):\n",
    "    try:\n",
    "        index = result_df['pic'][i]\n",
    "        urllib.request.urlretrieve(index, \"image/kurly{0}_{1}.jpg\".format(date, i))\n",
    "    except:\n",
    "        pass"
   ]
  },
  {
   "cell_type": "code",
   "execution_count": 9,
   "metadata": {},
   "outputs": [
    {
     "data": {
      "text/plain": [
       "'https://mail.naver.com/'"
      ]
     },
     "execution_count": 9,
     "metadata": {},
     "output_type": "execute_result"
    }
   ],
   "source": [
    "url = navs[0].get_attribute('href')\n",
    "url"
   ]
  },
  {
   "cell_type": "raw",
   "metadata": {},
   "source": [
    "# 셀레늄에서 데이터 찾는 함수\n",
    ".get_attribute\n",
    ".text"
   ]
  },
  {
   "cell_type": "raw",
   "metadata": {},
   "source": [
    "딕셔너리, 리스트에 저장하는 것만 익숙해지면 크롤링"
   ]
  },
  {
   "cell_type": "code",
   "execution_count": null,
   "metadata": {},
   "outputs": [],
   "source": []
  },
  {
   "cell_type": "code",
   "execution_count": null,
   "metadata": {},
   "outputs": [],
   "source": []
  }
 ],
 "metadata": {
  "kernelspec": {
   "display_name": "Python 3",
   "language": "python",
   "name": "python3"
  },
  "language_info": {
   "codemirror_mode": {
    "name": "ipython",
    "version": 3
   },
   "file_extension": ".py",
   "mimetype": "text/x-python",
   "name": "python",
   "nbconvert_exporter": "python",
   "pygments_lexer": "ipython3",
   "version": "3.7.6"
  }
 },
 "nbformat": 4,
 "nbformat_minor": 2
}
