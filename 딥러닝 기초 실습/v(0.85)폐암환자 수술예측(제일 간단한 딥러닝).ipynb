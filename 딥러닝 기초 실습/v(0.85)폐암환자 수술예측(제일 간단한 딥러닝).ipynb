{
 "cells": [
  {
   "cell_type": "code",
   "execution_count": 2,
   "metadata": {},
   "outputs": [],
   "source": [
    "# 딥러닝으로 폐암 수술 환자의 생존율 예측하기\n",
    "from keras.models import Sequential\n",
    "from keras.layers import Dense\n",
    "import numpy\n",
    "import tensorflow as tf"
   ]
  },
  {
   "cell_type": "code",
   "execution_count": 3,
   "metadata": {},
   "outputs": [],
   "source": [
    "# 실행할 때마다 같은 결과를 출력하기 위해 설정하는 부분\n",
    "seed = 0\n",
    "numpy.random.seed(seed)\n",
    "tf.random.set_seed(seed)"
   ]
  },
  {
   "cell_type": "code",
   "execution_count": 4,
   "metadata": {},
   "outputs": [
    {
     "data": {
      "text/plain": [
       "array([[293.  ,   1.  ,   3.8 , ...,   0.  ,  62.  ,   0.  ],\n",
       "       [  1.  ,   2.  ,   2.88, ...,   0.  ,  60.  ,   0.  ],\n",
       "       [  8.  ,   2.  ,   3.19, ...,   0.  ,  66.  ,   1.  ],\n",
       "       ...,\n",
       "       [406.  ,   6.  ,   5.36, ...,   0.  ,  62.  ,   0.  ],\n",
       "       [ 25.  ,   8.  ,   4.32, ...,   0.  ,  58.  ,   1.  ],\n",
       "       [447.  ,   8.  ,   5.2 , ...,   0.  ,  49.  ,   0.  ]])"
      ]
     },
     "execution_count": 4,
     "metadata": {},
     "output_type": "execute_result"
    }
   ],
   "source": [
    "## ★단계1. 데이터 셋 생성(train, validation, test set 나누기) # 470명 환자의 기록과 수술 결과를 X와 Y로 구분하여 저장\n",
    "Data_set = numpy.loadtxt(\"./data/ThoraricSurgery.csv\", delimiter=\",\")\n",
    "X = Data_set[:,0:17] # 수술기록\n",
    "Y = Data_set[:,17]   # 수술결과\n",
    "Data_set"
   ]
  },
  {
   "cell_type": "code",
   "execution_count": 47,
   "metadata": {},
   "outputs": [],
   "source": [
    "## ★단계2. 딥러닝 구조&모델 구성(sequential, layer, activation function)\n",
    "model = Sequential()\n",
    "model.add(Dense(30, input_dim=17, activation='relu'))\n",
    "model.add(Dense(1, activation='sigmoid'))"
   ]
  },
  {
   "cell_type": "code",
   "execution_count": 48,
   "metadata": {},
   "outputs": [],
   "source": [
    "## ★단계3. 학습과정 설정(loss function, optimizer 지정)\n",
    "model.compile(loss='mean_squared_error', optimizer='adam', metrics=['accuracy'])"
   ]
  },
  {
   "cell_type": "code",
   "execution_count": 49,
   "metadata": {},
   "outputs": [
    {
     "name": "stdout",
     "output_type": "stream",
     "text": [
      "Epoch 1/75\n",
      "47/47 [==============================] - 0s 766us/step - loss: 0.1489 - accuracy: 0.8511\n",
      "Epoch 2/75\n",
      "47/47 [==============================] - 0s 744us/step - loss: 0.1489 - accuracy: 0.8511\n",
      "Epoch 3/75\n",
      "47/47 [==============================] - 0s 744us/step - loss: 0.1490 - accuracy: 0.8511\n",
      "Epoch 4/75\n",
      "47/47 [==============================] - 0s 680us/step - loss: 0.1489 - accuracy: 0.8511\n",
      "Epoch 5/75\n",
      "47/47 [==============================] - 0s 638us/step - loss: 0.1489 - accuracy: 0.8511\n",
      "Epoch 6/75\n",
      "47/47 [==============================] - 0s 659us/step - loss: 0.1489 - accuracy: 0.8511\n",
      "Epoch 7/75\n",
      "47/47 [==============================] - 0s 617us/step - loss: 0.1489 - accuracy: 0.8511\n",
      "Epoch 8/75\n",
      "47/47 [==============================] - 0s 638us/step - loss: 0.1489 - accuracy: 0.8511\n",
      "Epoch 9/75\n",
      "47/47 [==============================] - 0s 617us/step - loss: 0.1489 - accuracy: 0.8511\n",
      "Epoch 10/75\n",
      "47/47 [==============================] - 0s 723us/step - loss: 0.1489 - accuracy: 0.8511\n",
      "Epoch 11/75\n",
      "47/47 [==============================] - 0s 829us/step - loss: 0.1489 - accuracy: 0.8511\n",
      "Epoch 12/75\n",
      "47/47 [==============================] - 0s 617us/step - loss: 0.1489 - accuracy: 0.8511\n",
      "Epoch 13/75\n",
      "47/47 [==============================] - 0s 659us/step - loss: 0.1489 - accuracy: 0.8511\n",
      "Epoch 14/75\n",
      "47/47 [==============================] - 0s 680us/step - loss: 0.1489 - accuracy: 0.8511\n",
      "Epoch 15/75\n",
      "47/47 [==============================] - 0s 638us/step - loss: 0.1489 - accuracy: 0.8511\n",
      "Epoch 16/75\n",
      "47/47 [==============================] - 0s 638us/step - loss: 0.1489 - accuracy: 0.8511\n",
      "Epoch 17/75\n",
      "47/47 [==============================] - 0s 1ms/step - loss: 0.1489 - accuracy: 0.8511\n",
      "Epoch 18/75\n",
      "47/47 [==============================] - 0s 766us/step - loss: 0.1489 - accuracy: 0.8511\n",
      "Epoch 19/75\n",
      "47/47 [==============================] - 0s 829us/step - loss: 0.1489 - accuracy: 0.8511\n",
      "Epoch 20/75\n",
      "47/47 [==============================] - 0s 872us/step - loss: 0.1489 - accuracy: 0.8511\n",
      "Epoch 21/75\n",
      "47/47 [==============================] - 0s 702us/step - loss: 0.1489 - accuracy: 0.8511\n",
      "Epoch 22/75\n",
      "47/47 [==============================] - 0s 893us/step - loss: 0.1489 - accuracy: 0.8511\n",
      "Epoch 23/75\n",
      "47/47 [==============================] - 0s 766us/step - loss: 0.1489 - accuracy: 0.8511\n",
      "Epoch 24/75\n",
      "47/47 [==============================] - 0s 766us/step - loss: 0.1489 - accuracy: 0.8511\n",
      "Epoch 25/75\n",
      "47/47 [==============================] - 0s 744us/step - loss: 0.1489 - accuracy: 0.8511\n",
      "Epoch 26/75\n",
      "47/47 [==============================] - 0s 765us/step - loss: 0.1489 - accuracy: 0.8511\n",
      "Epoch 27/75\n",
      "47/47 [==============================] - 0s 702us/step - loss: 0.1489 - accuracy: 0.8511\n",
      "Epoch 28/75\n",
      "47/47 [==============================] - 0s 723us/step - loss: 0.1489 - accuracy: 0.8511\n",
      "Epoch 29/75\n",
      "47/47 [==============================] - 0s 851us/step - loss: 0.1489 - accuracy: 0.8511\n",
      "Epoch 30/75\n",
      "47/47 [==============================] - 0s 765us/step - loss: 0.1489 - accuracy: 0.8511\n",
      "Epoch 31/75\n",
      "47/47 [==============================] - 0s 893us/step - loss: 0.1489 - accuracy: 0.8511\n",
      "Epoch 32/75\n",
      "47/47 [==============================] - 0s 893us/step - loss: 0.1489 - accuracy: 0.8511\n",
      "Epoch 33/75\n",
      "47/47 [==============================] - 0s 787us/step - loss: 0.1489 - accuracy: 0.8511\n",
      "Epoch 34/75\n",
      "47/47 [==============================] - 0s 659us/step - loss: 0.1489 - accuracy: 0.8511\n",
      "Epoch 35/75\n",
      "47/47 [==============================] - 0s 574us/step - loss: 0.1489 - accuracy: 0.8511\n",
      "Epoch 36/75\n",
      "47/47 [==============================] - 0s 574us/step - loss: 0.1489 - accuracy: 0.8511\n",
      "Epoch 37/75\n",
      "47/47 [==============================] - 0s 617us/step - loss: 0.1489 - accuracy: 0.8511\n",
      "Epoch 38/75\n",
      "47/47 [==============================] - 0s 617us/step - loss: 0.1489 - accuracy: 0.8511\n",
      "Epoch 39/75\n",
      "47/47 [==============================] - 0s 638us/step - loss: 0.1490 - accuracy: 0.8511\n",
      "Epoch 40/75\n",
      "47/47 [==============================] - 0s 723us/step - loss: 0.1489 - accuracy: 0.8511\n",
      "Epoch 41/75\n",
      "47/47 [==============================] - 0s 787us/step - loss: 0.1489 - accuracy: 0.8511\n",
      "Epoch 42/75\n",
      "47/47 [==============================] - 0s 617us/step - loss: 0.1489 - accuracy: 0.8511\n",
      "Epoch 43/75\n",
      "47/47 [==============================] - 0s 595us/step - loss: 0.1489 - accuracy: 0.8511\n",
      "Epoch 44/75\n",
      "47/47 [==============================] - 0s 595us/step - loss: 0.1489 - accuracy: 0.8511\n",
      "Epoch 45/75\n",
      "47/47 [==============================] - 0s 574us/step - loss: 0.1491 - accuracy: 0.8511\n",
      "Epoch 46/75\n",
      "47/47 [==============================] - 0s 595us/step - loss: 0.1489 - accuracy: 0.8511\n",
      "Epoch 47/75\n",
      "47/47 [==============================] - 0s 595us/step - loss: 0.1489 - accuracy: 0.8511\n",
      "Epoch 48/75\n",
      "47/47 [==============================] - 0s 595us/step - loss: 0.1489 - accuracy: 0.8511\n",
      "Epoch 49/75\n",
      "47/47 [==============================] - 0s 659us/step - loss: 0.1489 - accuracy: 0.8511\n",
      "Epoch 50/75\n",
      "47/47 [==============================] - 0s 595us/step - loss: 0.1489 - accuracy: 0.8511\n",
      "Epoch 51/75\n",
      "47/47 [==============================] - 0s 765us/step - loss: 0.1489 - accuracy: 0.8511\n",
      "Epoch 52/75\n",
      "47/47 [==============================] - 0s 617us/step - loss: 0.1489 - accuracy: 0.8511\n",
      "Epoch 53/75\n",
      "47/47 [==============================] - 0s 595us/step - loss: 0.1489 - accuracy: 0.8511\n",
      "Epoch 54/75\n",
      "47/47 [==============================] - 0s 574us/step - loss: 0.1489 - accuracy: 0.8511\n",
      "Epoch 55/75\n",
      "47/47 [==============================] - 0s 595us/step - loss: 0.1489 - accuracy: 0.8511\n",
      "Epoch 56/75\n",
      "47/47 [==============================] - 0s 595us/step - loss: 0.1489 - accuracy: 0.8511\n",
      "Epoch 57/75\n",
      "47/47 [==============================] - 0s 638us/step - loss: 0.1489 - accuracy: 0.8511\n",
      "Epoch 58/75\n",
      "47/47 [==============================] - 0s 617us/step - loss: 0.1489 - accuracy: 0.8511\n",
      "Epoch 59/75\n",
      "47/47 [==============================] - 0s 659us/step - loss: 0.1489 - accuracy: 0.8511\n",
      "Epoch 60/75\n",
      "47/47 [==============================] - 0s 638us/step - loss: 0.1489 - accuracy: 0.8511\n",
      "Epoch 61/75\n",
      "47/47 [==============================] - 0s 659us/step - loss: 0.1489 - accuracy: 0.8511\n",
      "Epoch 62/75\n",
      "47/47 [==============================] - 0s 574us/step - loss: 0.1489 - accuracy: 0.8511\n",
      "Epoch 63/75\n",
      "47/47 [==============================] - 0s 617us/step - loss: 0.1489 - accuracy: 0.8511\n",
      "Epoch 64/75\n",
      "47/47 [==============================] - 0s 638us/step - loss: 0.1489 - accuracy: 0.8511\n",
      "Epoch 65/75\n",
      "47/47 [==============================] - 0s 957us/step - loss: 0.1489 - accuracy: 0.8511\n",
      "Epoch 66/75\n",
      "47/47 [==============================] - 0s 638us/step - loss: 0.1489 - accuracy: 0.8511\n",
      "Epoch 67/75\n",
      "47/47 [==============================] - 0s 638us/step - loss: 0.1489 - accuracy: 0.8511\n",
      "Epoch 68/75\n",
      "47/47 [==============================] - 0s 638us/step - loss: 0.1489 - accuracy: 0.8511\n",
      "Epoch 69/75\n",
      "47/47 [==============================] - 0s 617us/step - loss: 0.1489 - accuracy: 0.8511\n",
      "Epoch 70/75\n",
      "47/47 [==============================] - 0s 595us/step - loss: 0.1489 - accuracy: 0.8511\n",
      "Epoch 71/75\n",
      "47/47 [==============================] - 0s 638us/step - loss: 0.1489 - accuracy: 0.8511\n",
      "Epoch 72/75\n",
      "47/47 [==============================] - 0s 595us/step - loss: 0.1489 - accuracy: 0.8511\n",
      "Epoch 73/75\n",
      "47/47 [==============================] - 0s 595us/step - loss: 0.1489 - accuracy: 0.8511\n",
      "Epoch 74/75\n",
      "47/47 [==============================] - 0s 617us/step - loss: 0.1489 - accuracy: 0.8511\n",
      "Epoch 75/75\n",
      "47/47 [==============================] - 0s 574us/step - loss: 0.1488 - accuracy: 0.8511\n"
     ]
    },
    {
     "data": {
      "text/plain": [
       "<tensorflow.python.keras.callbacks.History at 0x265dbfc5548>"
      ]
     },
     "execution_count": 49,
     "metadata": {},
     "output_type": "execute_result"
    }
   ],
   "source": [
    "## ★단계4. 학습시키기(train set을 fit()하기)\n",
    "model.fit(X, Y, epochs=75, batch_size=10)"
   ]
  },
  {
   "cell_type": "code",
   "execution_count": 50,
   "metadata": {},
   "outputs": [
    {
     "name": "stdout",
     "output_type": "stream",
     "text": [
      "15/15 [==============================] - 0s 666us/step - loss: 0.1489 - accuracy: 0.8511\n",
      "\n",
      " Accuracy: 0.8511\n"
     ]
    }
   ],
   "source": [
    "# 결과 출력\n",
    "print(\"\\n Accuracy: %.4f\" % (model.evaluate(X, Y)[1]))"
   ]
  },
  {
   "cell_type": "code",
   "execution_count": null,
   "metadata": {},
   "outputs": [],
   "source": []
  }
 ],
 "metadata": {
  "kernelspec": {
   "display_name": "Python 3",
   "language": "python",
   "name": "python3"
  },
  "language_info": {
   "codemirror_mode": {
    "name": "ipython",
    "version": 3
   },
   "file_extension": ".py",
   "mimetype": "text/x-python",
   "name": "python",
   "nbconvert_exporter": "python",
   "pygments_lexer": "ipython3",
   "version": "3.8.3"
  },
  "varInspector": {
   "cols": {
    "lenName": 16,
    "lenType": 16,
    "lenVar": 40
   },
   "kernels_config": {
    "python": {
     "delete_cmd_postfix": "",
     "delete_cmd_prefix": "del ",
     "library": "var_list.py",
     "varRefreshCmd": "print(var_dic_list())"
    },
    "r": {
     "delete_cmd_postfix": ") ",
     "delete_cmd_prefix": "rm(",
     "library": "var_list.r",
     "varRefreshCmd": "cat(var_dic_list()) "
    }
   },
   "types_to_exclude": [
    "module",
    "function",
    "builtin_function_or_method",
    "instance",
    "_Feature"
   ],
   "window_display": false
  }
 },
 "nbformat": 4,
 "nbformat_minor": 2
}
